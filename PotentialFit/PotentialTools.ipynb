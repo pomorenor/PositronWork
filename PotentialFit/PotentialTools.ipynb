{
 "cells": [
  {
   "cell_type": "code",
   "execution_count": 30,
   "metadata": {},
   "outputs": [],
   "source": [
    "import numpy as np \n",
    "import pandas as pd \n",
    "import matplotlib.pyplot as plt \n",
    "from scipy.optimize import curve_fit\n",
    "import textwrap "
   ]
  },
  {
   "cell_type": "markdown",
   "metadata": {},
   "source": [
    "# Some tools for writing, reading and joining LOWDIN potentials"
   ]
  },
  {
   "cell_type": "code",
   "execution_count": 29,
   "metadata": {},
   "outputs": [],
   "source": [
    "def write_potential_to_lowdin_format(potentialName,species,angularMomentum,exponents,coefficients,centers):\n",
    "    \n",
    "    outFile = open(potentialName, \"w\")\n",
    "    \n",
    "    outFile.write(\"O-\"+species+\"\\n\")\n",
    "    outFile.write(\"#\\n\")\n",
    "    outFile.write(\"%i\\n\" % (len(exponents)))\n",
    "    \n",
    "    for i in range(0,len(exponents)) :\n",
    "        outFile.write( str(i+1) + \" \"+ str(int(angularMomentum[i]))+\"\\n\" )\n",
    "        outFile.write( \"%.8f %.8e\\n\" % (exponents[i], coefficients[i]) )\n",
    "        \n",
    "        aux = str(centers[i][0])+\" \"+str(centers[i][1])+\" \"+str(centers[i][2])\n",
    "    \n",
    "        outFile.write( aux + \"\\n\")\n",
    "\n",
    "    outFile.close()\n",
    "\n",
    "    \n",
    "def read_lowdin_potential(potentialFile):\n",
    "    \n",
    "    exponents = []\n",
    "    coefficients = []\n",
    "    angular_momentum = []\n",
    "    centers = []\n",
    "    \n",
    "    \n",
    "    potential = open(potentialFile, 'r')\n",
    "    lines_pot = potential.readlines()\n",
    "    num_gauss_pot = int(lines_pot[2])\n",
    "    \n",
    "    species_line = lines_pot[0].strip()\n",
    "    species = str(species_line[2])+str(species_line[3])\n",
    "    \n",
    "    for i in range(3, len(lines_pot),3):\n",
    "        angular_momentum.append(int(lines_pot[i].split()[1]))\n",
    "    \n",
    "    for i in range(4,len(lines_pot),3):\n",
    "        exponents.append(float(lines_pot[i].split()[0]))\n",
    "        coefficients.append(float(lines_pot[i].split()[1]))\n",
    "    \n",
    "    for i in range(5, len(lines_pot),3):\n",
    "        centers.append([lines_pot[i].split()[0],lines_pot[i].split()[1],lines_pot[i].split()[2]])\n",
    "    \n",
    "    return species, num_gauss_pot, angular_momentum, exponents, coefficients, centers     \n",
    "    \n",
    "\n",
    "def join_lowdin_potentials(first_potential, second_potential, resulting_potential):\n",
    "    \n",
    "    fp = read_lowdin_potential(first_potential)\n",
    "    sp = read_lowdin_potential(second_potential)\n",
    "    \n",
    "    species = fp[0]\n",
    "    resulting_gaussians = fp[1] + sp[1]\n",
    "    angular_momentum = [*fp[2],*sp[2]]\n",
    "    exponents = [*fp[3],*sp[3]]\n",
    "    coefficients = [*fp[4],*sp[4]]\n",
    "    centers = [*fp[5],*sp[5]]\n",
    "    \n",
    "    write_potential_to_lowdin_format(resulting_potential,species,angular_momentum,exponents,coefficients,centers)\n",
    "    "
   ]
  },
  {
   "cell_type": "markdown",
   "metadata": {},
   "source": [
    "# A function for constructing the gaussian sums used to fit"
   ]
  },
  {
   "cell_type": "code",
   "execution_count": 81,
   "metadata": {},
   "outputs": [
    {
     "data": {
      "image/png": "[encoded data removed]",
      "text/plain": [
       "<Figure size 432x288 with 1 Axes>"
      ]
     },
     "metadata": {
      "needs_background": "light"
     },
     "output_type": "display_data"
    }
   ],
   "source": [
    "def create_python_function(name, body, parameters):\n",
    "    \n",
    "    exec(f\"def {name}({parameters}):\\n   {body}\")\n",
    "    \n",
    "    return locals()[name]\n",
    "\n",
    "\n",
    "def create_parameters(n):\n",
    "    \n",
    "    variable = \"r\"\n",
    "    coefficients = []\n",
    "    exponents = []\n",
    "    \n",
    "    \n",
    "    for i in range(0,n):\n",
    "        coefficients.append(\"a_\"+str(i))\n",
    "        exponents.append(\"b_\"+str(i))\n",
    "   \n",
    "    return coefficients,exponents\n",
    "\n",
    "\n",
    "def create_gaussians(name,coefficients,exponents,center):\n",
    "    \n",
    "    total_parameters_list = [*coefficients, *exponents]\n",
    "    total_parameter_length = len(total_parameters_list)\n",
    "\n",
    "    fitting_function = \"\"\n",
    "    parameters = \"r, \"\n",
    "    \n",
    "    for i in range(0,len(coefficients)):\n",
    "        if( i != len(coefficients)-1):\n",
    "            fitting_function += f\"{coefficients[i]}*np.exp(-{exponents[i]}*(r-{center})**2) + \"\n",
    "        else:\n",
    "            fitting_function += f\"{coefficients[i]}*np.exp(-{exponents[i]}*(r-{center})**2)\"\n",
    "    \n",
    "    for i in range(0, total_parameter_length):\n",
    "        if(i != total_parameter_length-1):\n",
    "            parameters += f\"{total_parameters_list[i]}, \"\n",
    "        else:\n",
    "            parameters += f\"{total_parameters_list[i]}\"\n",
    "    \n",
    "    \n",
    "    \n",
    "    function_body = textwrap.dedent(f'''\\\n",
    "        return {fitting_function}\n",
    "    ''')\n",
    "    \n",
    "    return create_function(name, function_body, parameters) \n",
    "\n",
    "\n",
    "\n",
    "### A little example of the use of this functions\n",
    "\"\"\"\n",
    "var = create_parameters(2)\n",
    "    \n",
    "A = create_gaussians(\"patito\",var[0],var[1],0)\n",
    "plt.figure()\n",
    "plt.plot(np.arange(-5,5,0.1), A(np.arange(-5,5,0.1),2,1,0.1,0.5))\n",
    "plt.show()\n",
    "\"\"\"\n",
    "\n",
    "    \n",
    "\n",
    "\n",
    "\n"
   ]
  },
  {
   "cell_type": "code",
   "execution_count": 3,
   "metadata": {},
   "outputs": [],
   "source": [
    "datapath=\"/home/pmorenor/Desktop/PositronWork/H-/H-_normal/dataHminus2.dat\"\n",
    "\n",
    "\n",
    "def gaussians2(r,a_0,a_1,a_2,a_3,a_4,a_5,a_6,a_7,a_8,a_9,b_0,b_1,b_2,b_3,b_4,b_5,b_6,b_7,b_8,b_9):\n",
    "\treturn a_0*np.exp(-b_0*(r)**2)+a_1*np.exp(-b_1*(r)**2)+a_2*np.exp(-b_2*(r)**2)+a_3*np.exp(-b_3*(r)**2)+a_4*np.exp(-b_4*(r)**2)+a_5*np.exp(-b_5*(r)**2)+a_6*np.exp(-b_6*(r)**2)+a_7*np.exp(-b_7*(r)**2)+a_8*np.exp(-b_8*(r)**2)+a_9*np.exp(-b_9*(r)**2)\n",
    "\n",
    "def gaussians3(r,a_0,a_1,a_2,a_3,a_4,a_5,a_6,a_7,a_8,a_9,b_0,b_1,b_2,b_3,b_4,b_5,b_6,b_7,b_8,b_9):\n",
    "\treturn a_0*np.exp(-b_0*(r-10)**2)+a_1*np.exp(-b_1*(r-10)**2)+a_2*np.exp(-b_2*(r-10)**2)+a_3*np.exp(-b_3*(r-10)**2)+a_4*np.exp(-b_4*(r-10)**2)+a_5*np.exp(-b_5*(r-10)**2)+a_6*np.exp(-b_6*(r-10)**2)+a_7*np.exp(-b_7*(r-10)**2)+a_8*np.exp(-b_8*(r-10)**2)+a_9*np.exp(-b_9*(r-10)**2)\n",
    "\n",
    "\n",
    "\n",
    "Data = pd.read_csv(datapath, delim_whitespace=True, engine=\"python\", header=None)\n",
    "\n",
    "\n",
    "r = Data[0].astype(float)\n",
    "r_Bohr = pd.Series([i*1.8897259886 for i in r])\n",
    "V_ee = Data[2].astype(float)\n",
    "V_Total = Data[3].astype(float)"
   ]
  },
  {
   "cell_type": "markdown",
   "metadata": {},
   "source": [
    "popt_total, pcov_total = curve_fit(gaussians2, xdata=r_Bohr, ydata= V_Total, maxfev=50000)\n",
    "\n",
    "L = [0 for i in range(0,len(popt_total))]\n",
    "\n",
    "coefficients= np.split(popt_total,2)[0]\n",
    "exponents= np.split(popt_total,2)[1]\n",
    "\n",
    "centers1 = [[0.0,0.0,0.0] for i in range(0,len(popt_total))]\n",
    "centers2 = [[10.0,0.0,0.0] for i in range(0,len(popt_total))]\n",
    "\n",
    "write_potential_to_lowdin_format(\"FCENTER\",\"E+\",L,exponents,coefficients,centers1)\n",
    "write_potential_to_lowdin_format(\"SCENTER\",\"E+\",L,exponents,coefficients,centers2)\n"
   ]
  },
  {
   "cell_type": "markdown",
   "metadata": {},
   "source": [
    "join_potentials(\"FCENTER\",\"SCENTER\",\"NTOTPOT\",\"E+\")\n",
    "join_lowdin_potentials(\"FCENTER\",\"SCENTER\",\"SNTOTPOT\")"
   ]
  },
  {
   "cell_type": "markdown",
   "metadata": {},
   "source": [
    "HESPEEBOHR = read_potential(\"HEEBOHR\")"
   ]
  },
  {
   "cell_type": "markdown",
   "metadata": {},
   "source": [
    "print(HESPEEBOHR[0])"
   ]
  },
  {
   "cell_type": "markdown",
   "metadata": {},
   "source": [
    "# We start working with the Be + e⁺ system "
   ]
  },
  {
   "cell_type": "markdown",
   "metadata": {},
   "source": [
    "### We start by extracting the polarization-correlation potential for Beryllium"
   ]
  },
  {
   "cell_type": "code",
   "execution_count": 93,
   "metadata": {},
   "outputs": [],
   "source": [
    "Be_Vpc = read_lowdin_potential(\"BEVPC\")\n",
    "Be_Vpc_coeff_exp = [*Be_Vpc[4],*Be_Vpc[3]]\n",
    "Vpc_parameters = create_parameters(25)\n",
    "Be = create_gaussians(\"Be\",Vpc_parameters[0],Vpc_parameters[1],0)"
   ]
  },
  {
   "cell_type": "code",
   "execution_count": 94,
   "metadata": {},
   "outputs": [
    {
     "data": {
      "text/plain": [
       "<Figure size 432x288 with 0 Axes>"
      ]
     },
     "execution_count": 94,
     "metadata": {},
     "output_type": "execute_result"
    },
    {
     "data": {
      "image/png": "[encoded data removed]",
      "text/plain": [
       "<Figure size 432x288 with 1 Axes>"
      ]
     },
     "metadata": {
      "needs_background": "light"
     },
     "output_type": "display_data"
    },
    {
     "data": {
      "text/plain": [
       "<Figure size 432x288 with 0 Axes>"
      ]
     },
     "metadata": {},
     "output_type": "display_data"
    }
   ],
   "source": [
    "plt.figure()\n",
    "plt.plot(np.arange(0,10,0.1), Be(np.arange(0,10,0.1),*Be_Vpc_coeff_exp))\n",
    "plt.figure()"
   ]
  },
  {
   "cell_type": "code",
   "execution_count": 164,
   "metadata": {},
   "outputs": [],
   "source": [
    "Be_ESP_data = \"/home/pmorenor/Desktop/PositronWork/Be/BeTotalESP.txt\"\n",
    "\n",
    "data = pd.read_csv(Be_ESP_data, delim_whitespace=True, engine=\"python\", header=None)\n",
    "\n",
    "\n",
    "r = data[0].astype(float)\n",
    "r_Bohr = pd.Series([i*1.8897259886 for i in r])\n",
    "V_Total = data[4].astype(float)"
   ]
  },
  {
   "cell_type": "code",
   "execution_count": 165,
   "metadata": {},
   "outputs": [
    {
     "data": {
      "text/plain": [
       "<Figure size 432x288 with 0 Axes>"
      ]
     },
     "execution_count": 165,
     "metadata": {},
     "output_type": "execute_result"
    },
    {
     "data": {
      "image/png": "[encoded data removed]",
      "text/plain": [
       "<Figure size 432x288 with 1 Axes>"
      ]
     },
     "metadata": {
      "needs_background": "light"
     },
     "output_type": "display_data"
    },
    {
     "data": {
      "text/plain": [
       "<Figure size 432x288 with 0 Axes>"
      ]
     },
     "metadata": {},
     "output_type": "display_data"
    }
   ],
   "source": [
    "plt.figure()\n",
    "plt.plot(r_Bohr,V_Total)\n",
    "plt.figure()"
   ]
  },
  {
   "cell_type": "code",
   "execution_count": 166,
   "metadata": {},
   "outputs": [],
   "source": [
    "Be_Vpc_Bohr = [Be(i,*Be_Vpc_coeff_exp) for i in r_Bohr]"
   ]
  },
  {
   "cell_type": "code",
   "execution_count": 167,
   "metadata": {},
   "outputs": [
    {
     "data": {
      "text/plain": [
       "<Figure size 432x288 with 0 Axes>"
      ]
     },
     "execution_count": 167,
     "metadata": {},
     "output_type": "execute_result"
    },
    {
     "data": {
      "image/png": "[encoded data removed]",
      "text/plain": [
       "<Figure size 432x288 with 1 Axes>"
      ]
     },
     "metadata": {
      "needs_background": "light"
     },
     "output_type": "display_data"
    },
    {
     "data": {
      "text/plain": [
       "<Figure size 432x288 with 0 Axes>"
      ]
     },
     "metadata": {},
     "output_type": "display_data"
    }
   ],
   "source": [
    "plt.figure()\n",
    "plt.plot(r_Bohr,Be_Vpc_Bohr)\n",
    "plt.figure()"
   ]
  },
  {
   "cell_type": "code",
   "execution_count": 168,
   "metadata": {},
   "outputs": [],
   "source": [
    "Vpc_ESP = [i+j for i,j in zip(V_Total,Be_Vpc_Bohr)]"
   ]
  },
  {
   "cell_type": "code",
   "execution_count": 169,
   "metadata": {},
   "outputs": [
    {
     "data": {
      "text/plain": [
       "<Figure size 432x288 with 0 Axes>"
      ]
     },
     "execution_count": 169,
     "metadata": {},
     "output_type": "execute_result"
    },
    {
     "data": {
      "image/png": "[encoded data removed]",
      "text/plain": [
       "<Figure size 432x288 with 1 Axes>"
      ]
     },
     "metadata": {
      "needs_background": "light"
     },
     "output_type": "display_data"
    },
    {
     "data": {
      "text/plain": [
       "<Figure size 432x288 with 0 Axes>"
      ]
     },
     "metadata": {},
     "output_type": "display_data"
    }
   ],
   "source": [
    "plt.figure()\n",
    "plt.plot(r_Bohr,Vpc_ESP)\n",
    "plt.ylim(-0.2,1)\n",
    "plt.figure()"
   ]
  },
  {
   "cell_type": "markdown",
   "metadata": {},
   "source": [
    "### Now we are gonna fit the total potential ($V_{PC}+V_{ESP}$)"
   ]
  },
  {
   "cell_type": "code",
   "execution_count": 192,
   "metadata": {},
   "outputs": [],
   "source": [
    "Fitting_parameters_Be_Vpc= create_parameters(9)\n",
    "Be_gaussian_fitting = create_gaussians(\"BeTot\",Fitting_parameters_Be_Vpc[0],Fitting_parameters_Be_Vpc[1],0)"
   ]
  },
  {
   "cell_type": "code",
   "execution_count": 193,
   "metadata": {},
   "outputs": [
    {
     "name": "stdout",
     "output_type": "stream",
     "text": [
      "Fitting parameters: \n",
      "\n",
      "[-1.80878202e-03 -3.77237165e+00 -6.05628825e-01 -1.02988795e-01\n",
      " -2.47924805e+01 -2.47955428e+01 -2.47962125e+01  4.99598448e+01\n",
      "  3.28209740e+01 -1.34487176e-04  3.76168907e-01  2.33134087e-01\n",
      "  5.82218606e-02  7.84676141e-01  7.84674573e-01  7.84675279e-01\n",
      "  9.09358767e-01  5.89725734e-01]\n",
      "\n",
      "\n",
      "Error in fitting parameters: \n",
      "\n",
      "[4.33937355e-03 4.35395361e+02 3.95898715e+01 7.66656975e-02\n",
      " 3.30475673e+05 3.90851266e+05 1.24569907e+05 1.79367217e+04\n",
      " 5.19101843e+03 2.25394147e-02 8.62913046e+00 2.01498725e+00\n",
      " 2.24369368e-02 4.28102703e+03 5.97184451e+03 6.04585478e+03\n",
      " 1.72954992e+01 1.45780238e+01]\n"
     ]
    }
   ],
   "source": [
    "popt_Vpcesp, pcov_Vpcesp = curve_fit(Be_gaussian_fitting, xdata=r_Bohr[15:100], ydata =Vpc_ESP[15:100], maxfev=50000)\n",
    "\n",
    "print(\"Fitting parameters: \\n\")\n",
    "print(popt_Vpcesp)\n",
    "print(\"\\n\")\n",
    "print(\"Error in fitting parameters: \\n\")\n",
    "print(np.sqrt(np.diag(pcov_Vpcesp)))"
   ]
  },
  {
   "cell_type": "code",
   "execution_count": 196,
   "metadata": {},
   "outputs": [
    {
     "data": {
      "text/plain": [
       "<Figure size 432x288 with 0 Axes>"
      ]
     },
     "execution_count": 196,
     "metadata": {},
     "output_type": "execute_result"
    },
    {
     "data": {
      "image/png": "[encoded data removed]",
      "text/plain": [
       "<Figure size 432x288 with 1 Axes>"
      ]
     },
     "metadata": {
      "needs_background": "light"
     },
     "output_type": "display_data"
    },
    {
     "data": {
      "text/plain": [
       "<Figure size 432x288 with 0 Axes>"
      ]
     },
     "metadata": {},
     "output_type": "display_data"
    }
   ],
   "source": [
    "plt.figure()\n",
    "plt.plot(r_Bohr[15:100],Vpc_ESP[15:100], color = \"red\")\n",
    "plt.scatter(r_Bohr, Be_gaussian_fitting(r_Bohr,*popt_Vpcesp),color = \"blue\")\n",
    "plt.ylim(-0.2,1)\n",
    "plt.figure()"
   ]
  },
  {
   "cell_type": "code",
   "execution_count": null,
   "metadata": {},
   "outputs": [],
   "source": []
  }
 ],
 "metadata": {
  "kernelspec": {
   "display_name": "Python 3",
   "language": "python",
   "name": "python3"
  },
  "language_info": {
   "codemirror_mode": {
    "name": "ipython",
    "version": 3
   },
   "file_extension": ".py",
   "mimetype": "text/x-python",
   "name": "python",
   "nbconvert_exporter": "python",
   "pygments_lexer": "ipython3",
   "version": "3.8.10"
  }
 },
 "nbformat": 4,
 "nbformat_minor": 5
}
