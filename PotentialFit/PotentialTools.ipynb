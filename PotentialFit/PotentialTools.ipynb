{
 "cells": [
  {
   "cell_type": "code",
   "execution_count": 30,
   "metadata": {},
   "outputs": [],
   "source": [
    "import numpy as np \n",
    "import pandas as pd \n",
    "import matplotlib.pyplot as plt \n",
    "from scipy.optimize import curve_fit\n",
    "import textwrap "
   ]
  },
  {
   "cell_type": "markdown",
   "metadata": {},
   "source": [
    "# Some tools for writing, reading and joining LOWDIN potentials"
   ]
  },
  {
   "cell_type": "code",
   "execution_count": 29,
   "metadata": {},
   "outputs": [],
   "source": [
    "def write_potential_to_lowdin_format(potentialName,species,angularMomentum,exponents,coefficients,centers):\n",
    "    \n",
    "    outFile = open(potentialName, \"w\")\n",
    "    \n",
    "    outFile.write(\"O-\"+species+\"\\n\")\n",
    "    outFile.write(\"#\\n\")\n",
    "    outFile.write(\"%i\\n\" % (len(exponents)))\n",
    "    \n",
    "    for i in range(0,len(exponents)) :\n",
    "        outFile.write( str(i+1) + \" \"+ str(int(angularMomentum[i]))+\"\\n\" )\n",
    "        outFile.write( \"%.8f %.8e\\n\" % (exponents[i], coefficients[i]) )\n",
    "        \n",
    "        aux = str(centers[i][0])+\" \"+str(centers[i][1])+\" \"+str(centers[i][2])\n",
    "    \n",
    "        outFile.write( aux + \"\\n\")\n",
    "\n",
    "    outFile.close()\n",
    "\n",
    "    \n",
    "def read_lowdin_potential(potentialFile):\n",
    "    \n",
    "    exponents = []\n",
    "    coefficients = []\n",
    "    angular_momentum = []\n",
    "    centers = []\n",
    "    \n",
    "    \n",
    "    potential = open(potentialFile, 'r')\n",
    "    lines_pot = potential.readlines()\n",
    "    num_gauss_pot = int(lines_pot[2])\n",
    "    \n",
    "    species_line = lines_pot[0].strip()\n",
    "    species = str(species_line[2])+str(species_line[3])\n",
    "    \n",
    "    for i in range(3, len(lines_pot),3):\n",
    "        angular_momentum.append(int(lines_pot[i].split()[1]))\n",
    "    \n",
    "    for i in range(4,len(lines_pot),3):\n",
    "        exponents.append(float(lines_pot[i].split()[0]))\n",
    "        coefficients.append(float(lines_pot[i].split()[1]))\n",
    "    \n",
    "    for i in range(5, len(lines_pot),3):\n",
    "        centers.append([lines_pot[i].split()[0],lines_pot[i].split()[1],lines_pot[i].split()[2]])\n",
    "    \n",
    "    return species, num_gauss_pot, angular_momentum, exponents, coefficients, centers     \n",
    "    \n",
    "\n",
    "def join_lowdin_potentials(first_potential, second_potential, resulting_potential):\n",
    "    \n",
    "    fp = read_lowdin_potential(first_potential)\n",
    "    sp = read_lowdin_potential(second_potential)\n",
    "    \n",
    "    species = fp[0]\n",
    "    resulting_gaussians = fp[1] + sp[1]\n",
    "    angular_momentum = [*fp[2],*sp[2]]\n",
    "    exponents = [*fp[3],*sp[3]]\n",
    "    coefficients = [*fp[4],*sp[4]]\n",
    "    centers = [*fp[5],*sp[5]]\n",
    "    \n",
    "    write_potential_to_lowdin_format(resulting_potential,species,angular_momentum,exponents,coefficients,centers)\n",
    "    "
   ]
  },
  {
   "cell_type": "markdown",
   "metadata": {},
   "source": [
    "# A function for constructing the gaussian sums used to fit"
   ]
  },
  {
   "cell_type": "code",
   "execution_count": 52,
   "metadata": {},
   "outputs": [
    {
     "data": {
      "image/png": "[encoded data removed]",
      "text/plain": [
       "<Figure size 432x288 with 1 Axes>"
      ]
     },
     "metadata": {
      "needs_background": "light"
     },
     "output_type": "display_data"
    }
   ],
   "source": [
    "def create_function(name, body, parameters):\n",
    "    \n",
    "    exec(f\"def {name}({parameters}):\\n   {body}\")\n",
    "    \n",
    "    return locals()[name]\n",
    "\n",
    "\n",
    "def create_parameters()\n",
    "\n",
    "#A little example of this function's use\n",
    "\"\"\"\n",
    "funcstr=textwrap.dedent('''\\\n",
    "    return a*x**2\n",
    "''')\n",
    "\n",
    "\n",
    "A = create_function(\"patito\", funcstr,\"x,a\")\n",
    "\n",
    "plt.figure()\n",
    "plt.plot(np.arange(-5,5,0.1),A(np.arange(-5,5,0.1),2))\n",
    "plt.show()\n",
    "\"\"\""
   ]
  },
  {
   "cell_type": "code",
   "execution_count": 3,
   "metadata": {},
   "outputs": [],
   "source": [
    "datapath=\"/home/pmorenor/Desktop/PositronWork/H-/H-_normal/dataHminus2.dat\"\n",
    "\n",
    "\n",
    "def gaussians2(r,a_0,a_1,a_2,a_3,a_4,a_5,a_6,a_7,a_8,a_9,b_0,b_1,b_2,b_3,b_4,b_5,b_6,b_7,b_8,b_9):\n",
    "\treturn a_0*np.exp(-b_0*(r)**2)+a_1*np.exp(-b_1*(r)**2)+a_2*np.exp(-b_2*(r)**2)+a_3*np.exp(-b_3*(r)**2)+a_4*np.exp(-b_4*(r)**2)+a_5*np.exp(-b_5*(r)**2)+a_6*np.exp(-b_6*(r)**2)+a_7*np.exp(-b_7*(r)**2)+a_8*np.exp(-b_8*(r)**2)+a_9*np.exp(-b_9*(r)**2)\n",
    "\n",
    "def gaussians3(r,a_0,a_1,a_2,a_3,a_4,a_5,a_6,a_7,a_8,a_9,b_0,b_1,b_2,b_3,b_4,b_5,b_6,b_7,b_8,b_9):\n",
    "\treturn a_0*np.exp(-b_0*(r-10)**2)+a_1*np.exp(-b_1*(r-10)**2)+a_2*np.exp(-b_2*(r-10)**2)+a_3*np.exp(-b_3*(r-10)**2)+a_4*np.exp(-b_4*(r-10)**2)+a_5*np.exp(-b_5*(r-10)**2)+a_6*np.exp(-b_6*(r-10)**2)+a_7*np.exp(-b_7*(r-10)**2)+a_8*np.exp(-b_8*(r-10)**2)+a_9*np.exp(-b_9*(r-10)**2)\n",
    "\n",
    "\n",
    "\n",
    "Data = pd.read_csv(datapath, delim_whitespace=True, engine=\"python\", header=None)\n",
    "\n",
    "\n",
    "r = Data[0].astype(float)\n",
    "r_Bohr = pd.Series([i*1.8897259886 for i in r])\n",
    "V_ee = Data[2].astype(float)\n",
    "V_Total = Data[3].astype(float)"
   ]
  },
  {
   "cell_type": "code",
   "execution_count": 22,
   "metadata": {},
   "outputs": [
    {
     "name": "stderr",
     "output_type": "stream",
     "text": [
      "/home/pmorenor/.local/lib/python3.8/site-packages/pandas/core/arraylike.py:396: RuntimeWarning: overflow encountered in exp\n",
      "  result = getattr(ufunc, method)(*inputs, **kwargs)\n"
     ]
    }
   ],
   "source": [
    "popt_total, pcov_total = curve_fit(gaussians2, xdata=r_Bohr, ydata= V_Total, maxfev=50000)\n",
    "\n",
    "L = [0 for i in range(0,len(popt_total))]\n",
    "\n",
    "coefficients= np.split(popt_total,2)[0]\n",
    "exponents= np.split(popt_total,2)[1]\n",
    "\n",
    "centers1 = [[0.0,0.0,0.0] for i in range(0,len(popt_total))]\n",
    "centers2 = [[10.0,0.0,0.0] for i in range(0,len(popt_total))]\n",
    "\n",
    "write_potential_to_lowdin_format(\"FCENTER\",\"E+\",L,exponents,coefficients,centers1)\n",
    "write_potential_to_lowdin_format(\"SCENTER\",\"E+\",L,exponents,coefficients,centers2)\n"
   ]
  },
  {
   "cell_type": "code",
   "execution_count": 28,
   "metadata": {},
   "outputs": [],
   "source": [
    "join_potentials(\"FCENTER\",\"SCENTER\",\"NTOTPOT\",\"E+\")\n",
    "join_lowdin_potentials(\"FCENTER\",\"SCENTER\",\"SNTOTPOT\")"
   ]
  },
  {
   "cell_type": "code",
   "execution_count": 20,
   "metadata": {},
   "outputs": [],
   "source": [
    "HESPEEBOHR = read_potential(\"HEEBOHR\")"
   ]
  },
  {
   "cell_type": "code",
   "execution_count": 21,
   "metadata": {},
   "outputs": [
    {
     "name": "stdout",
     "output_type": "stream",
     "text": [
      "E+\n"
     ]
    }
   ],
   "source": [
    "print(HESPEEBOHR[0])"
   ]
  },
  {
   "cell_type": "code",
   "execution_count": null,
   "metadata": {},
   "outputs": [],
   "source": []
  }
 ],
 "metadata": {
  "kernelspec": {
   "display_name": "Python 3",
   "language": "python",
   "name": "python3"
  },
  "language_info": {
   "codemirror_mode": {
    "name": "ipython",
    "version": 3
   },
   "file_extension": ".py",
   "mimetype": "text/x-python",
   "name": "python",
   "nbconvert_exporter": "python",
   "pygments_lexer": "ipython3",
   "version": "3.8.10"
  }
 },
 "nbformat": 4,
 "nbformat_minor": 5
}
