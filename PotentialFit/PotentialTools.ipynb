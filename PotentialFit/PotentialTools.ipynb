{
 "cells": [
  {
   "cell_type": "code",
   "execution_count": 1,
   "id": "a901f967",
   "metadata": {},
   "outputs": [],
   "source": [
    "import numpy as np \n",
    "import pandas as pd \n",
    "import matplotlib.pyplot as plt \n",
    "from scipy.optimize import curve_fit\n",
    "import textwrap \n"
   ]
  },
  {
   "cell_type": "markdown",
   "id": "5f2b9021",
   "metadata": {},
   "source": [
    "# Some tools for writing, reading and joining LOWDIN potentials"
   ]
  },
  {
   "cell_type": "code",
   "execution_count": 2,
   "id": "54b09ba1",
   "metadata": {},
   "outputs": [],
   "source": [
    "def write_potential_to_lowdin_format(potentialName,species,angularMomentum,exponents,coefficients,centers):\n",
    "    \n",
    "    outFile = open(potentialName, \"w\")\n",
    "    \n",
    "    outFile.write(\"O-\"+species+\"\\n\")\n",
    "    outFile.write(\"#\\n\")\n",
    "    outFile.write(\"%i\\n\" % (len(exponents)))\n",
    "    \n",
    "    for i in range(0,len(exponents)) :\n",
    "        outFile.write( str(i+1) + \" \"+ str(int(angularMomentum[i]))+\"\\n\" )\n",
    "        outFile.write( \"%.8f %.8e\\n\" % (exponents[i], coefficients[i]) )\n",
    "        \n",
    "        aux = str(centers[i][0])+\" \"+str(centers[i][1])+\" \"+str(centers[i][2])\n",
    "    \n",
    "        outFile.write( aux + \"\\n\")\n",
    "\n",
    "    outFile.close()\n",
    "\n",
    "    \n",
    "def read_lowdin_potential(potentialFile):\n",
    "    \n",
    "    exponents = []\n",
    "    coefficients = []\n",
    "    angular_momentum = []\n",
    "    centers = []\n",
    "    \n",
    "    \n",
    "    potential = open(potentialFile, 'r')\n",
    "    lines_pot = potential.readlines()\n",
    "    num_gauss_pot = int(lines_pot[2])\n",
    "    \n",
    "    species_line = lines_pot[0].strip()\n",
    "    species = str(species_line[2])+str(species_line[3])\n",
    "    \n",
    "    for i in range(3, len(lines_pot),3):\n",
    "        angular_momentum.append(int(lines_pot[i].split()[1]))\n",
    "    \n",
    "    for i in range(4,len(lines_pot),3):\n",
    "        exponents.append(float(lines_pot[i].split()[0]))\n",
    "        coefficients.append(float(lines_pot[i].split()[1]))\n",
    "    \n",
    "    for i in range(5, len(lines_pot),3):\n",
    "        centers.append([lines_pot[i].split()[0],lines_pot[i].split()[1],lines_pot[i].split()[2]])\n",
    "    \n",
    "    return species, num_gauss_pot, angular_momentum, exponents, coefficients, centers     \n",
    "    \n",
    "\n",
    "def join_lowdin_potentials(first_potential, second_potential, resulting_potential):\n",
    "    \n",
    "    fp = read_lowdin_potential(first_potential)\n",
    "    sp = read_lowdin_potential(second_potential)\n",
    "    \n",
    "    species = fp[0]\n",
    "    resulting_gaussians = fp[1] + sp[1]\n",
    "    angular_momentum = [*fp[2],*sp[2]]\n",
    "    exponents = [*fp[3],*sp[3]]\n",
    "    coefficients = [*fp[4],*sp[4]]\n",
    "    centers = [*fp[5],*sp[5]]\n",
    "    \n",
    "    write_potential_to_lowdin_format(resulting_potential,species,angular_momentum,exponents,coefficients,centers)\n",
    "    "
   ]
  },
  {
   "cell_type": "code",
   "execution_count": 3,
   "id": "cc53b7f7-685f-4f5c-973c-cf19885e6b63",
   "metadata": {},
   "outputs": [],
   "source": [
    "VPC = read_lowdin_potential(\"/home/pohl/Desktop/LOWDIN/dependencies/bin/.lowdin2/lib/potentials/BBB\")\n",
    "VBEVPC = read_lowdin_potential(\"/home/pohl/Desktop/LOWDIN/dependencies/bin/.lowdin2/lib/potentials/VBEVPC\")\n",
    "join_lowdin_potentials(\"/home/pohl/Desktop/LOWDIN/dependencies/bin/.lowdin2/lib/potentials/VBEVPC\", \"/home/pohl/Desktop/LOWDIN/dependencies/bin/.lowdin2/lib/potentials/VBEVPC\", \"/home/pohl/Desktop/LOWDIN/dependencies/bin/.lowdin2/lib/potentials/DOUBBE\")\n",
    "SameCenter = read_lowdin_potential(\"/home/pohl/Desktop/LOWDIN/dependencies/bin/.lowdin2/lib/potentials/DOUBBE\")"
   ]
  },
  {
   "cell_type": "code",
   "execution_count": 21,
   "id": "2debeec8-7111-4f1f-bc34-18ddc76ca0a3",
   "metadata": {},
   "outputs": [
    {
     "data": {
      "image/png": "[encoded data removed]",
      "text/plain": [
       "<Figure size 432x288 with 1 Axes>"
      ]
     },
     "metadata": {
      "needs_background": "light"
     },
     "output_type": "display_data"
    }
   ],
   "source": [
    "\n",
    "def gaussians(r,exponent,coefficients,center):\n",
    "    result = 0.0\n",
    "    for i,j,k in zip(exponent,coefficients,center):\n",
    "        result += j*np.exp(-i*(r-float(k[0]))**2)\n",
    "    return result \n",
    "\n",
    "\n",
    "\n",
    "plt.figure()\n",
    "plt.plot(np.arange(0,30,0.1), gaussians(np.arange(0,30,0.1),VPC[3],VPC[4],VPC[5] ) )\n",
    "plt.show()"
   ]
  },
  {
   "cell_type": "code",
   "execution_count": 1,
   "id": "c4d30fad-17fc-46aa-b8e6-e257d8c3fb73",
   "metadata": {},
   "outputs": [
    {
     "ename": "NameError",
     "evalue": "name 'read_lowdin_potential' is not defined",
     "output_type": "error",
     "traceback": [
      "\u001b[0;31m---------------------------------------------------------------------------\u001b[0m",
      "\u001b[0;31mNameError\u001b[0m                                 Traceback (most recent call last)",
      "\u001b[0;32m/tmp/ipykernel_10470/2001468928.py\u001b[0m in \u001b[0;36m<module>\u001b[0;34m\u001b[0m\n\u001b[0;32m----> 1\u001b[0;31m \u001b[0mVPC\u001b[0m \u001b[0;34m=\u001b[0m \u001b[0mread_lowdin_potential\u001b[0m\u001b[0;34m(\u001b[0m\u001b[0;34m\"/home/pohl/Desktop/LOWDIN/dependencies/bin/.lowdin2/lib/potentials/VPC\"\u001b[0m\u001b[0;34m)\u001b[0m\u001b[0;34m\u001b[0m\u001b[0;34m\u001b[0m\u001b[0m\n\u001b[0m\u001b[1;32m      2\u001b[0m \u001b[0mVBEVPC\u001b[0m \u001b[0;34m=\u001b[0m \u001b[0mread_lowdin_potential\u001b[0m\u001b[0;34m(\u001b[0m\u001b[0;34m\"/home/pohl/Desktop/LOWDIN/dependencies/bin/.lowdin2/lib/potentials/VBEVPC\"\u001b[0m\u001b[0;34m)\u001b[0m\u001b[0;34m\u001b[0m\u001b[0;34m\u001b[0m\u001b[0m\n",
      "\u001b[0;31mNameError\u001b[0m: name 'read_lowdin_potential' is not defined"
     ]
    }
   ],
   "source": [
    "VPC = read_lowdin_potential(\"/home/pohl/Desktop/LOWDIN/dependencies/bin/.lowdin2/lib/potentials/VPC\")\n",
    "VBEVPC = read_lowdin_potential(\"/home/pohl/Desktop/LOWDIN/dependencies/bin/.lowdin2/lib/potentials/VBEVPC\")"
   ]
  },
  {
   "cell_type": "markdown",
   "id": "c8f4546c",
   "metadata": {},
   "source": [
    "# A function for constructing the gaussian sums used to fit"
   ]
  },
  {
   "cell_type": "code",
   "execution_count": 6,
   "id": "a232a0cc",
   "metadata": {},
   "outputs": [
    {
     "data": {
      "text/plain": [
       "'\\nvar = create_parameters(2)\\n    \\nA = create_gaussians(\"patito\",var[0],var[1],0)\\nplt.figure()\\nplt.plot(np.arange(-5,5,0.1), A(np.arange(-5,5,0.1),2,1,0.1,0.5))\\nplt.show()\\n'"
      ]
     },
     "execution_count": 6,
     "metadata": {},
     "output_type": "execute_result"
    }
   ],
   "source": [
    "def create_function(name, body, parameters):\n",
    "    \n",
    "    exec(f\"def {name}({parameters}):\\n   {body}\")\n",
    "    \n",
    "    return locals()[name]\n",
    "\n",
    "\n",
    "def create_parameters(n):\n",
    "    \n",
    "    variable = \"r\"\n",
    "    coefficients = []\n",
    "    exponents = []\n",
    "    \n",
    "    \n",
    "    for i in range(0,n):\n",
    "        coefficients.append(\"a_\"+str(i))\n",
    "        exponents.append(\"b_\"+str(i))\n",
    "   \n",
    "    return coefficients,exponents\n",
    "\n",
    "\n",
    "def create_gaussians(name,coefficients,exponents,center):\n",
    "    \n",
    "    total_parameters_list = [*coefficients, *exponents]\n",
    "    total_parameter_length = len(total_parameters_list)\n",
    "\n",
    "    fitting_function = \"\"\n",
    "    parameters = \"r, \"\n",
    "    \n",
    "    for i in range(0,len(coefficients)):\n",
    "        if( i != len(coefficients)-1):\n",
    "            fitting_function += f\"{coefficients[i]}*np.exp(-{exponents[i]}*(r-{center})**2) + \"\n",
    "        else:\n",
    "            fitting_function += f\"{coefficients[i]}*np.exp(-{exponents[i]}*(r-{center})**2)\"\n",
    "    \n",
    "    for i in range(0, total_parameter_length):\n",
    "        if(i != total_parameter_length-1):\n",
    "            parameters += f\"{total_parameters_list[i]}, \"\n",
    "        else:\n",
    "            parameters += f\"{total_parameters_list[i]}\"\n",
    "    \n",
    "    \n",
    "    \n",
    "    function_body = textwrap.dedent(f'''\\\n",
    "        return {fitting_function}\n",
    "    ''')\n",
    "    \n",
    "    return create_function(name, function_body, parameters) \n",
    "\n",
    "\n",
    "\n",
    "### A little example of the use of this functions\n",
    "\"\"\"\n",
    "var = create_parameters(2)\n",
    "    \n",
    "A = create_gaussians(\"patito\",var[0],var[1],0)\n",
    "plt.figure()\n",
    "plt.plot(np.arange(-5,5,0.1), A(np.arange(-5,5,0.1),2,1,0.1,0.5))\n",
    "plt.show()\n",
    "\"\"\"\n",
    "\n",
    "    \n",
    "\n",
    "\n",
    "\n"
   ]
  },
  {
   "cell_type": "code",
   "execution_count": 8,
   "id": "4e8955f2-2a06-4f2e-bd66-41f5c9866387",
   "metadata": {},
   "outputs": [],
   "source": [
    "VPCAr= read_lowdin_potential(\"/home/pohl/Desktop/LOWDIN/dependencies/bin/.lowdin2/lib/potentials/AR\")\n",
    "Vpc_parameters = create_parameters(25)\n",
    "AR = create_gaussians(\"Ar\",Vpc_parameters[0],Vpc_parameters[1],0)\n",
    "Ar_Vpc_coeff_exp = [*VPCAr[4],*VPCAr[3]]\n"
   ]
  },
  {
   "cell_type": "code",
   "execution_count": 9,
   "id": "794aee0e-4923-4cc2-b055-b165737ba445",
   "metadata": {},
   "outputs": [
    {
     "data": {
      "text/plain": [
       "<Figure size 432x288 with 0 Axes>"
      ]
     },
     "execution_count": 9,
     "metadata": {},
     "output_type": "execute_result"
    },
    {
     "data": {
      "image/png": "[encoded data removed]",
      "text/plain": [
       "<Figure size 432x288 with 1 Axes>"
      ]
     },
     "metadata": {
      "needs_background": "light"
     },
     "output_type": "display_data"
    },
    {
     "data": {
      "text/plain": [
       "<Figure size 432x288 with 0 Axes>"
      ]
     },
     "metadata": {},
     "output_type": "display_data"
    }
   ],
   "source": [
    "plt.figure()\n",
    "plt.plot(np.arange(0,10,0.1), AR(np.arange(0,10,0.1),*Ar_Vpc_coeff_exp))\n",
    "plt.figure()"
   ]
  },
  {
   "cell_type": "code",
   "execution_count": 16,
   "id": "0a5b5272-ad41-4144-afb4-3c684fef405e",
   "metadata": {},
   "outputs": [
    {
     "data": {
      "text/plain": [
       "<Figure size 432x288 with 0 Axes>"
      ]
     },
     "execution_count": 16,
     "metadata": {},
     "output_type": "execute_result"
    },
    {
     "data": {
      "image/png": "[encoded data removed]",
      "text/plain": [
       "<Figure size 432x288 with 1 Axes>"
      ]
     },
     "metadata": {
      "needs_background": "light"
     },
     "output_type": "display_data"
    },
    {
     "data": {
      "text/plain": [
       "<Figure size 432x288 with 0 Axes>"
      ]
     },
     "metadata": {},
     "output_type": "display_data"
    }
   ],
   "source": [
    "VPCAr= read_lowdin_potential(\"/home/pohl/Desktop/LOWDIN/dependencies/bin/.lowdin2/lib/potentials/AR30\")\n",
    "Vpc_parameters = create_parameters(50)\n",
    "AR = create_gaussians(\"Ar\",Vpc_parameters[0],Vpc_parameters[1],0)\n",
    "Ar_Vpc_coeff_exp = [*VPCAr[4],*VPCAr[3]]\n",
    "plt.figure()\n",
    "plt.plot(np.arange(0,10,0.1), AR(np.arange(0,10,0.1),*Ar_Vpc_coeff_exp))\n",
    "plt.figure()"
   ]
  },
  {
   "cell_type": "code",
   "execution_count": 3,
   "id": "26f0ea38",
   "metadata": {},
   "outputs": [],
   "source": [
    "datapath=\"/home/pmorenor/Desktop/PositronWork/H-/H-_normal/dataHminus2.dat\"\n",
    "\n",
    "\n",
    "def gaussians2(r,a_0,a_1,a_2,a_3,a_4,a_5,a_6,a_7,a_8,a_9,b_0,b_1,b_2,b_3,b_4,b_5,b_6,b_7,b_8,b_9):\n",
    "\treturn a_0*np.exp(-b_0*(r)**2)+a_1*np.exp(-b_1*(r)**2)+a_2*np.exp(-b_2*(r)**2)+a_3*np.exp(-b_3*(r)**2)+a_4*np.exp(-b_4*(r)**2)+a_5*np.exp(-b_5*(r)**2)+a_6*np.exp(-b_6*(r)**2)+a_7*np.exp(-b_7*(r)**2)+a_8*np.exp(-b_8*(r)**2)+a_9*np.exp(-b_9*(r)**2)\n",
    "\n",
    "def gaussians3(r,a_0,a_1,a_2,a_3,a_4,a_5,a_6,a_7,a_8,a_9,b_0,b_1,b_2,b_3,b_4,b_5,b_6,b_7,b_8,b_9):\n",
    "\treturn a_0*np.exp(-b_0*(r-10)**2)+a_1*np.exp(-b_1*(r-10)**2)+a_2*np.exp(-b_2*(r-10)**2)+a_3*np.exp(-b_3*(r-10)**2)+a_4*np.exp(-b_4*(r-10)**2)+a_5*np.exp(-b_5*(r-10)**2)+a_6*np.exp(-b_6*(r-10)**2)+a_7*np.exp(-b_7*(r-10)**2)+a_8*np.exp(-b_8*(r-10)**2)+a_9*np.exp(-b_9*(r-10)**2)\n",
    "\n",
    "\n",
    "\n",
    "Data = pd.read_csv(datapath, delim_whitespace=True, engine=\"python\", header=None)\n",
    "\n",
    "\n",
    "r = Data[0].astype(float)\n",
    "r_Bohr = pd.Series([i*1.8897259886 for i in r])\n",
    "V_ee = Data[2].astype(float)\n",
    "V_Total = Data[3].astype(float)"
   ]
  },
  {
   "cell_type": "markdown",
   "id": "d4d95973",
   "metadata": {},
   "source": [
    "popt_total, pcov_total = curve_fit(gaussians2, xdata=r_Bohr, ydata= V_Total, maxfev=50000)\n",
    "\n",
    "L = [0 for i in range(0,len(popt_total))]\n",
    "\n",
    "coefficients= np.split(popt_total,2)[0]\n",
    "exponents= np.split(popt_total,2)[1]\n",
    "\n",
    "centers1 = [[0.0,0.0,0.0] for i in range(0,len(popt_total))]\n",
    "centers2 = [[10.0,0.0,0.0] for i in range(0,len(popt_total))]\n",
    "\n",
    "write_potential_to_lowdin_format(\"FCENTER\",\"E+\",L,exponents,coefficients,centers1)\n",
    "write_potential_to_lowdin_format(\"SCENTER\",\"E+\",L,exponents,coefficients,centers2)\n",
    "e+01  6.00660002e+00  1.05212201e+01 -4.29359584e+01\n",
    "  1.88023594e+00  1.40434735e+01  2.43153047e+01 -3.17436960e-01\n",
    "  9.92407272e-01  3.32675786e+02  1.26441621e+02 "
   ]
  },
  {
   "cell_type": "markdown",
   "id": "9f6838e9",
   "metadata": {},
   "source": [
    "join_potentials(\"FCENTER\",\"SCENTER\",\"NTOTPOT\",\"E+\")\n",
    "join_lowdin_potentials(\"FCENTER\",\"SCENTER\",\"SNTOTPOT\")"
   ]
  },
  {
   "cell_type": "markdown",
   "id": "cbdf33b8",
   "metadata": {},
   "source": [
    "HESPEEBOHR = read_potential(\"HEEBOHR\")"
   ]
  },
  {
   "cell_type": "markdown",
   "id": "97e54f5e",
   "metadata": {},
   "source": [
    "print(HESPEEBOHR[0])"
   ]
  },
  {
   "cell_type": "markdown",
   "id": "021d8e61",
   "metadata": {},
   "source": [
    "# We start working with the Be + e⁺ system "
   ]
  },
  {
   "cell_type": "markdown",
   "id": "e38cd84d",
   "metadata": {},
   "source": [
    "### We start by extracting the polarization-correlation potential for Beryllium"
   ]
  },
  {
   "cell_type": "code",
   "execution_count": 93,
   "id": "7a7e1add",
   "metadata": {},
   "outputs": [],
   "source": [
    "Be_Vpc = read_lowdin_potential(\"BEVPC\")\n",
    "Be_Vpc_coeff_exp = [*Be_Vpc[4],*Be_Vpc[3]]\n",
    "Vpc_parameters = create_parameters(25)\n",
    "Be = create_gaussians(\"Be\",Vpc_parameters[0],Vpc_parameters[1],0)"
   ]
  },
  {
   "cell_type": "code",
   "execution_count": 94,
   "id": "42e7ebe4",
   "metadata": {},
   "outputs": [
    {
     "data": {
      "text/plain": [
       "<Figure size 432x288 with 0 Axes>"
      ]
     },
     "execution_count": 94,
     "metadata": {},
     "output_type": "execute_result"
    },
    {
     "data": {
      "image/png": "[encoded data removed]",
      "text/plain": [
       "<Figure size 432x288 with 1 Axes>"
      ]
     },
     "metadata": {
      "needs_background": "light"
     },
     "output_type": "display_data"
    },
    {
     "data": {
      "text/plain": [
       "<Figure size 432x288 with 0 Axes>"
      ]
     },
     "metadata": {},
     "output_type": "display_data"
    }
   ],
   "source": [
    "plt.figure()\n",
    "plt.plot(np.arange(0,10,0.1), Be(np.arange(0,10,0.1),*Be_Vpc_coeff_exp))\n",
    "plt.figure()"
   ]
  },
  {
   "cell_type": "code",
   "execution_count": 164,
   "id": "d60c9540",
   "metadata": {},
   "outputs": [],
   "source": [
    "Be_ESP_data = \"/home/pmorenor/Desktop/PositronWork/Be/BeTotalESP.txt\"\n",
    "\n",
    "data = pd.read_csv(Be_ESP_data, delim_whitespace=True, engine=\"python\", header=None)\n",
    "\n",
    "\n",
    "r = data[0].astype(float)\n",
    "r_Bohr = pd.Series([i*1.8897259886 for i in r])\n",
    "V_Total = data[4].astype(float)"
   ]
  },
  {
   "cell_type": "code",
   "execution_count": 165,
   "id": "18a66193",
   "metadata": {},
   "outputs": [
    {
     "data": {
      "text/plain": [
       "<Figure size 432x288 with 0 Axes>"
      ]
     },
     "execution_count": 165,
     "metadata": {},
     "output_type": "execute_result"
    },
    {
     "data": {
      "image/png": "[encoded data removed]",
      "text/plain": [
       "<Figure size 432x288 with 1 Axes>"
      ]
     },
     "metadata": {
      "needs_background": "light"
     },
     "output_type": "display_data"
    },
    {
     "data": {
      "text/plain": [
       "<Figure size 432x288 with 0 Axes>"
      ]
     },
     "metadata": {},
     "output_type": "display_data"
    }
   ],
   "source": [
    "plt.figure()\n",
    "plt.plot(r_Bohr,V_Total)\n",
    "plt.figure()"
   ]
  },
  {
   "cell_type": "code",
   "execution_count": 166,
   "id": "a908179f",
   "metadata": {},
   "outputs": [],
   "source": [
    "Be_Vpc_Bohr = [Be(i,*Be_Vpc_coeff_exp) for i in r_Bohr]"
   ]
  },
  {
   "cell_type": "code",
   "execution_count": 167,
   "id": "99ec76c5",
   "metadata": {},
   "outputs": [
    {
     "data": {
      "text/plain": [
       "<Figure size 432x288 with 0 Axes>"
      ]
     },
     "execution_count": 167,
     "metadata": {},
     "output_type": "execute_result"
    },
    {
     "data": {
      "image/png": "[encoded data removed]",
      "text/plain": [
       "<Figure size 432x288 with 1 Axes>"
      ]
     },
     "metadata": {
      "needs_background": "light"
     },
     "output_type": "display_data"
    },
    {
     "data": {
      "text/plain": [
       "<Figure size 432x288 with 0 Axes>"
      ]
     },
     "metadata": {},
     "output_type": "display_data"
    }
   ],
   "source": [
    "plt.figure()\n",
    "plt.plot(r_Bohr,Be_Vpc_Bohr)\n",
    "plt.figure()"
   ]
  },
  {
   "cell_type": "code",
   "execution_count": 168,
   "id": "0908e658",
   "metadata": {},
   "outputs": [],
   "source": [
    "Vpc_ESP = [i+j for i,j in zip(V_Total,Be_Vpc_Bohr)]"
   ]
  },
  {
   "cell_type": "code",
   "execution_count": 169,
   "id": "8cc20c26",
   "metadata": {},
   "outputs": [
    {
     "data": {
      "text/plain": [
       "<Figure size 432x288 with 0 Axes>"
      ]
     },
     "execution_count": 169,
     "metadata": {},
     "output_type": "execute_result"
    },
    {
     "data": {
      "image/png": "[encoded data removed]",
      "text/plain": [
       "<Figure size 432x288 with 1 Axes>"
      ]
     },
     "metadata": {
      "needs_background": "light"
     },
     "output_type": "display_data"
    },
    {
     "data": {
      "text/plain": [
       "<Figure size 432x288 with 0 Axes>"
      ]
     },
     "metadata": {},
     "output_type": "display_data"
    }
   ],
   "source": [
    "plt.figure()\n",
    "plt.plot(r_Bohr,Vpc_ESP)\n",
    "plt.ylim(-0.2,1)\n",
    "plt.figure()"
   ]
  },
  {
   "cell_type": "markdown",
   "id": "1ff40d85",
   "metadata": {},
   "source": [
    "### Now we are gonna fit the total potential ($V_{PC}+V_{ESP}$)"
   ]
  },
  {
   "cell_type": "code",
   "execution_count": 204,
   "id": "c842cbed",
   "metadata": {},
   "outputs": [],
   "source": [
    "Fitting_parameters_Be_Vpc= create_parameters(9)\n",
    "Be_gaussian_fitting = create_gaussians(\"BeTot\",Fitting_parameters_Be_Vpc[0],Fitting_parameters_Be_Vpc[1],0)"
   ]
  },
  {
   "cell_type": "code",
   "execution_count": 236,
   "id": "e8f59b75",
   "metadata": {},
   "outputs": [
    {
     "name": "stdout",
     "output_type": "stream",
     "text": [
      "Fitting parameters: \n",
      "\n",
      "[-4.53843822e-01 -1.44172583e+00 -1.81376469e+02 -1.91280953e+00\n",
      " -2.36171629e+00  1.80304960e+02 -6.55456258e-01 -1.67239234e-01\n",
      " -2.89237369e-01  4.64142091e+01  1.28200915e+01  6.50954218e-01\n",
      "  1.41146757e-01  3.92017972e+00  6.46547452e-01  2.61865755e-02\n",
      "  3.12644757e-04  4.24133828e-03]\n",
      "\n",
      "\n",
      "Error in fitting parameters: \n",
      "\n",
      "[1.13359340e-01 1.72465925e-01 3.84804393e+05 3.45171112e-02\n",
      " 1.47623865e-01 3.84804451e+05 6.47012062e-03 1.12339541e-03\n",
      " 2.61555676e-03 9.75515673e+00 2.04933303e+00 4.70846673e+00\n",
      " 2.09793389e-03 3.47794103e-01 4.68354693e+00 3.56839282e-04\n",
      " 3.97864328e-06 5.72607480e-05]\n"
     ]
    }
   ],
   "source": [
    "popt, pcov = curve_fit(Be_gaussian_fitting, xdata=r_Bohr[15:100], ydata =Vpc_ESP[15:100], maxfev=50000)\n",
    "\n",
    "print(\"Fitting parameters: \\n\")\n",
    "print(popt_Vpcesp)\n",
    "print(\"\\n\")\n",
    "print(\"Error in fitting parameters: \\n\")\n",
    "print(np.sqrt(np.diag(pcov_Vpcesp)))"
   ]
  },
  {
   "cell_type": "code",
   "execution_count": 245,
   "id": "e0bbe177",
   "metadata": {},
   "outputs": [
    {
     "name": "stdout",
     "output_type": "stream",
     "text": [
      "2.799999438404665\n"
     ]
    },
    {
     "data": {
      "image/png": "[encoded data removed]",
      "text/plain": [
       "<Figure size 432x288 with 1 Axes>"
      ]
     },
     "metadata": {
      "needs_background": "light"
     },
     "output_type": "display_data"
    },
    {
     "data": {
      "text/plain": [
       "<Figure size 432x288 with 0 Axes>"
      ]
     },
     "metadata": {},
     "output_type": "display_data"
    }
   ],
   "source": [
    "\n",
    "plt.figure()\n",
    "plt.plot(r_Bohr[5:100],Vpc_ESP[5:100], color = \"red\")\n",
    "plt.scatter(r_Bohr, Be_gaussian_fitting(r_Bohr,*popt),color = \"blue\")\n",
    "#plt.ylim(-0.175,0.0)\n",
    "plt.figure()\n",
    "\n",
    "\n",
    "FittedOne = list(Be_gaussian_fitting(r_Bohr,*popt))\n",
    "FittedOne.index(min(FittedOne))\n",
    "\n",
    "print(r_Bohr[28])"
   ]
  },
  {
   "cell_type": "code",
   "execution_count": 197,
   "id": "816d3a0e",
   "metadata": {},
   "outputs": [],
   "source": [
    "write_potential_to_lowdin_format(\"VPCESBE\",\"E+\",[int(0) for i in range(0,9)],np.split(popt_Vpcesp,2)[1],np.split(popt_Vpcesp,2)[0],[[0.0,0.0,0.0] for i in range(0,9)])\n",
    " "
   ]
  },
  {
   "cell_type": "code",
   "execution_count": 281,
   "id": "3a925eeb",
   "metadata": {},
   "outputs": [],
   "source": [
    "def nuclear_potential(r,Z):\n",
    "    return Z/r"
   ]
  },
  {
   "cell_type": "code",
   "execution_count": 229,
   "id": "d8c08e70",
   "metadata": {},
   "outputs": [],
   "source": [
    "nucleus_contrib = nuclear_potential(r_Bohr)\n",
    "Vpc_ESP_no_nucleus = [i+j-k for i,j,k in zip(V_Total[1:],Be_Vpc_Bohr[1:],nucleus_contrib[1:])]"
   ]
  },
  {
   "cell_type": "code",
   "execution_count": 230,
   "id": "17e5c3fb",
   "metadata": {},
   "outputs": [],
   "source": [
    "popt_Vpcesp, pcov_Vpcesp = curve_fit(Be_gaussian_fitting, xdata=r_Bohr[1:], ydata =Vpc_ESP_no_nucleus, maxfev=50000)\n"
   ]
  },
  {
   "cell_type": "code",
   "execution_count": 440,
   "id": "4a417a6f",
   "metadata": {},
   "outputs": [
    {
     "data": {
      "text/plain": [
       "<Figure size 432x288 with 0 Axes>"
      ]
     },
     "execution_count": 440,
     "metadata": {},
     "output_type": "execute_result"
    },
    {
     "data": {
      "image/png": "[encoded data removed]",
      "text/plain": [
       "<Figure size 432x288 with 1 Axes>"
      ]
     },
     "metadata": {
      "needs_background": "light"
     },
     "output_type": "display_data"
    },
    {
     "data": {
      "text/plain": [
       "<Figure size 432x288 with 0 Axes>"
      ]
     },
     "metadata": {},
     "output_type": "display_data"
    }
   ],
   "source": [
    "plt.figure()\n",
    "plt.scatter(r_Bohr[1:],Vpc_ESP_no_nucleus, color = \"red\")\n",
    "plt.plot(r_Bohr, Be_gaussian_fitting(r_Bohr,*popt_Vpcesp),color = \"blue\")\n",
    "#plt.ylim(-0.175,0.0)\n",
    "plt.figure()"
   ]
  },
  {
   "cell_type": "code",
   "execution_count": 233,
   "id": "6f3b6d44",
   "metadata": {},
   "outputs": [],
   "source": [
    "write_potential_to_lowdin_format(\"EEBE\",\"E+\",[int(0) for i in range(0,9)],np.split(popt_Vpcesp,2)[1],np.split(popt_Vpcesp,2)[0],[[0.0,0.0,0.0] for i in range(0,9)])\n"
   ]
  },
  {
   "cell_type": "code",
   "execution_count": 234,
   "id": "1ea0d1ce",
   "metadata": {},
   "outputs": [],
   "source": [
    "write_potential_to_lowdin_format(\"TWOESBE\",\"E+\",[int(0) for i in range(0,9)],np.split(popt_Vpcesp,2)[1],np.split(popt_Vpcesp,2)[0],[[4.636,0.0,0.0] for i in range(0,9)])\n"
   ]
  },
  {
   "cell_type": "code",
   "execution_count": 235,
   "id": "17d63ddf",
   "metadata": {},
   "outputs": [],
   "source": [
    "join_lowdin_potentials(\"EEBE\", \"TWOESBE\", \"BEBETOT\")\n"
   ]
  },
  {
   "cell_type": "markdown",
   "id": "4b718dfb",
   "metadata": {},
   "source": [
    "### We repeat the procedure for the hydride systems"
   ]
  },
  {
   "cell_type": "code",
   "execution_count": 481,
   "id": "a0f953e7",
   "metadata": {},
   "outputs": [],
   "source": [
    "hydride_lowdin=\"/home/pmorenor/Desktop/PositronWork/H-/H-_normal/dataHminus2.dat\"\n",
    "\n",
    "Data_h_lowdin = pd.read_csv(hydride_lowdin, delim_whitespace=True, engine=\"python\", header=None)\n",
    "\n",
    "\n",
    "r_l = Data[0].astype(float)\n",
    "r_Bohr_l = pd.Series([i*1.8897259886 for i in r_l])\n",
    "V_ee_l = Data[2].astype(float)\n",
    "V_Total_l = Data[3].astype(float)\n",
    "\n"
   ]
  },
  {
   "cell_type": "code",
   "execution_count": 483,
   "id": "2f36a38a",
   "metadata": {},
   "outputs": [],
   "source": [
    "Fitting_parameters_hydride= create_parameters(10)\n",
    "hydride_gaussian_fitting = create_gaussians(\"hydride\",Fitting_parameters_hydride[0],Fitting_parameters_hydride[1],0)\n"
   ]
  },
  {
   "cell_type": "code",
   "execution_count": 484,
   "id": "dcd652f0",
   "metadata": {},
   "outputs": [
    {
     "name": "stdout",
     "output_type": "stream",
     "text": [
      "Fitting parameters: \n",
      "\n",
      "[-1.86882403e+01 -1.88372156e+01  1.01289463e+00  2.26771656e+01\n",
      " -6.55912280e+00  2.17817939e+01  2.58219083e+01 -3.17385466e-01\n",
      "  4.49664611e+00  7.71590556e+00  1.09287467e+01  1.09267808e+01\n",
      "  1.59505671e+00  5.43886989e+02  1.72620803e+01  9.42169381e+00\n",
      "  1.37966142e+01  1.29526554e-02  4.66450178e+01  1.43458805e+02]\n",
      "\n",
      "\n",
      "Error in fitting parameters: \n",
      "\n",
      "[2.49390420e+06 2.56552148e+06 5.07724772e-01 6.84554861e+00\n",
      " 1.77910699e+05 3.14589859e+05 2.63251827e+05 3.26542178e-03\n",
      " 1.50176593e+02 1.03731582e+01 1.60251858e+06 1.57298297e+06\n",
      " 2.97265322e-01 3.84098556e+02 3.40264167e+04 5.94922077e+03\n",
      " 4.05626822e+04 8.27883767e-04 6.63601014e+02 3.63892529e+02]\n"
     ]
    }
   ],
   "source": [
    "popt_hydride, pcov_hydride = curve_fit(hydride_gaussian_fitting, xdata=r_Bohr_l, ydata =V_Total_l, maxfev=50000)\n",
    "\n",
    "print(\"Fitting parameters: \\n\")\n",
    "print(popt_hydride)\n",
    "print(\"\\n\")\n",
    "print(\"Error in fitting parameters: \\n\")\n",
    "print(np.sqrt(np.diag(pcov_hydride)))"
   ]
  },
  {
   "cell_type": "code",
   "execution_count": 486,
   "id": "4c339c40",
   "metadata": {},
   "outputs": [],
   "source": [
    "write_potential_to_lowdin_format(\"HMT\",\"E+\",[int(0) for i in range(0,10)],np.split(popt_hydride,2)[1],np.split(popt_hydride,2)[0],[[0.0,0.0,0.0] for i in range(0,10)])\n"
   ]
  },
  {
   "cell_type": "code",
   "execution_count": 485,
   "id": "e6f3466b",
   "metadata": {},
   "outputs": [
    {
     "data": {
      "image/png": "[encoded data removed]",
      "text/plain": [
       "<Figure size 432x288 with 1 Axes>"
      ]
     },
     "metadata": {
      "needs_background": "light"
     },
     "output_type": "display_data"
    }
   ],
   "source": [
    "plt.figure()\n",
    "plt.plot(r_Bohr_hydride[10:500],V_Total_hydride[10:500], color = \"red\")\n",
    "plt.plot(r_Bohr_hydride,hydride_gaussian_fitting(r_Bohr_hydride,*popt_hydride), color = \"blue\")\n",
    "\n",
    "#plt.xlim(-2,10)\n",
    "plt.ylim(-0.5,1.0)\n",
    "plt.axhline(y=0)\n",
    "plt.show()"
   ]
  },
  {
   "cell_type": "code",
   "execution_count": 470,
   "id": "ba046b1f",
   "metadata": {},
   "outputs": [
    {
     "ename": "ValueError",
     "evalue": "operands could not be broadcast together with shapes (120,) (121,) ",
     "output_type": "error",
     "traceback": [
      "\u001b[0;31m------------------------------------------\u001b[0m",
      "\u001b[0;31mValueError\u001b[0mTraceback (most recent call last)",
      "\u001b[0;32m<ipython-input-470-347a3eac993e>\u001b[0m in \u001b[0;36m<module>\u001b[0;34m\u001b[0m\n\u001b[1;32m      7\u001b[0m     \u001b[0mparams\u001b[0m\u001b[0;34m[\u001b[0m\u001b[0mname\u001b[0m\u001b[0;34m]\u001b[0m\u001b[0;34m.\u001b[0m\u001b[0mvalue\u001b[0m \u001b[0;34m=\u001b[0m \u001b[0mvalue\u001b[0m\u001b[0;34m\u001b[0m\u001b[0;34m\u001b[0m\u001b[0m\n\u001b[1;32m      8\u001b[0m \u001b[0;34m\u001b[0m\u001b[0m\n\u001b[0;32m----> 9\u001b[0;31m \u001b[0mresult\u001b[0m \u001b[0;34m=\u001b[0m \u001b[0mmodel\u001b[0m\u001b[0;34m.\u001b[0m\u001b[0mfit\u001b[0m\u001b[0;34m(\u001b[0m\u001b[0mV_Total_l\u001b[0m\u001b[0;34m,\u001b[0m \u001b[0mparams\u001b[0m\u001b[0;34m,\u001b[0m \u001b[0mr\u001b[0m\u001b[0;34m=\u001b[0m\u001b[0mr_Bohr_l\u001b[0m\u001b[0;34m)\u001b[0m\u001b[0;34m\u001b[0m\u001b[0;34m\u001b[0m\u001b[0m\n\u001b[0m\u001b[1;32m     10\u001b[0m \u001b[0;34m\u001b[0m\u001b[0m\n\u001b[1;32m     11\u001b[0m \u001b[0;31m#print(result.fit_report())\u001b[0m\u001b[0;34m\u001b[0m\u001b[0;34m\u001b[0m\u001b[0;34m\u001b[0m\u001b[0m\n",
      "\u001b[0;32m~/.local/lib/python3.8/site-packages/lmfit/model.py\u001b[0m in \u001b[0;36mfit\u001b[0;34m(self, data, params, weights, method, iter_cb, scale_covar, verbose, fit_kws, nan_policy, calc_covar, max_nfev, coerce_farray, **kwargs)\u001b[0m\n\u001b[1;32m   1175\u001b[0m                              \u001b[0mnan_policy\u001b[0m\u001b[0;34m=\u001b[0m\u001b[0mself\u001b[0m\u001b[0;34m.\u001b[0m\u001b[0mnan_policy\u001b[0m\u001b[0;34m,\u001b[0m \u001b[0mcalc_covar\u001b[0m\u001b[0;34m=\u001b[0m\u001b[0mcalc_covar\u001b[0m\u001b[0;34m,\u001b[0m\u001b[0;34m\u001b[0m\u001b[0;34m\u001b[0m\u001b[0m\n\u001b[1;32m   1176\u001b[0m                              max_nfev=max_nfev, **fit_kws)\n\u001b[0;32m-> 1177\u001b[0;31m         \u001b[0moutput\u001b[0m\u001b[0;34m.\u001b[0m\u001b[0mfit\u001b[0m\u001b[0;34m(\u001b[0m\u001b[0mdata\u001b[0m\u001b[0;34m=\u001b[0m\u001b[0mdata\u001b[0m\u001b[0;34m,\u001b[0m \u001b[0mweights\u001b[0m\u001b[0;34m=\u001b[0m\u001b[0mweights\u001b[0m\u001b[0;34m)\u001b[0m\u001b[0;34m\u001b[0m\u001b[0;34m\u001b[0m\u001b[0m\n\u001b[0m\u001b[1;32m   1178\u001b[0m         \u001b[0moutput\u001b[0m\u001b[0;34m.\u001b[0m\u001b[0mcomponents\u001b[0m \u001b[0;34m=\u001b[0m \u001b[0mself\u001b[0m\u001b[0;34m.\u001b[0m\u001b[0mcomponents\u001b[0m\u001b[0;34m\u001b[0m\u001b[0;34m\u001b[0m\u001b[0m\n\u001b[1;32m   1179\u001b[0m         \u001b[0;32mreturn\u001b[0m \u001b[0moutput\u001b[0m\u001b[0;34m\u001b[0m\u001b[0;34m\u001b[0m\u001b[0m\n",
      "\u001b[0;32m~/.local/lib/python3.8/site-packages/lmfit/model.py\u001b[0m in \u001b[0;36mfit\u001b[0;34m(self, data, params, weights, method, nan_policy, **kwargs)\u001b[0m\n\u001b[1;32m   1568\u001b[0m         \u001b[0mself\u001b[0m\u001b[0;34m.\u001b[0m\u001b[0muserkws\u001b[0m\u001b[0;34m.\u001b[0m\u001b[0mupdate\u001b[0m\u001b[0;34m(\u001b[0m\u001b[0mkwargs\u001b[0m\u001b[0;34m)\u001b[0m\u001b[0;34m\u001b[0m\u001b[0;34m\u001b[0m\u001b[0m\n\u001b[1;32m   1569\u001b[0m         \u001b[0mself\u001b[0m\u001b[0;34m.\u001b[0m\u001b[0minit_fit\u001b[0m \u001b[0;34m=\u001b[0m \u001b[0mself\u001b[0m\u001b[0;34m.\u001b[0m\u001b[0mmodel\u001b[0m\u001b[0;34m.\u001b[0m\u001b[0meval\u001b[0m\u001b[0;34m(\u001b[0m\u001b[0mparams\u001b[0m\u001b[0;34m=\u001b[0m\u001b[0mself\u001b[0m\u001b[0;34m.\u001b[0m\u001b[0minit_params\u001b[0m\u001b[0;34m,\u001b[0m \u001b[0;34m**\u001b[0m\u001b[0mself\u001b[0m\u001b[0;34m.\u001b[0m\u001b[0muserkws\u001b[0m\u001b[0;34m)\u001b[0m\u001b[0;34m\u001b[0m\u001b[0;34m\u001b[0m\u001b[0m\n\u001b[0;32m-> 1570\u001b[0;31m         \u001b[0m_ret\u001b[0m \u001b[0;34m=\u001b[0m \u001b[0mself\u001b[0m\u001b[0;34m.\u001b[0m\u001b[0mminimize\u001b[0m\u001b[0;34m(\u001b[0m\u001b[0mmethod\u001b[0m\u001b[0;34m=\u001b[0m\u001b[0mself\u001b[0m\u001b[0;34m.\u001b[0m\u001b[0mmethod\u001b[0m\u001b[0;34m,\u001b[0m \u001b[0mparams\u001b[0m\u001b[0;34m=\u001b[0m\u001b[0mself\u001b[0m\u001b[0;34m.\u001b[0m\u001b[0minit_params\u001b[0m\u001b[0;34m)\u001b[0m\u001b[0;34m\u001b[0m\u001b[0;34m\u001b[0m\u001b[0m\n\u001b[0m\u001b[1;32m   1571\u001b[0m         \u001b[0mself\u001b[0m\u001b[0;34m.\u001b[0m\u001b[0mmodel\u001b[0m\u001b[0;34m.\u001b[0m\u001b[0mpost_fit\u001b[0m\u001b[0;34m(\u001b[0m\u001b[0m_ret\u001b[0m\u001b[0;34m)\u001b[0m\u001b[0;34m\u001b[0m\u001b[0;34m\u001b[0m\u001b[0m\n\u001b[1;32m   1572\u001b[0m         \u001b[0m_ret\u001b[0m\u001b[0;34m.\u001b[0m\u001b[0mparams\u001b[0m\u001b[0;34m.\u001b[0m\u001b[0mcreate_uvars\u001b[0m\u001b[0;34m(\u001b[0m\u001b[0mcovar\u001b[0m\u001b[0;34m=\u001b[0m\u001b[0m_ret\u001b[0m\u001b[0;34m.\u001b[0m\u001b[0mcovar\u001b[0m\u001b[0;34m)\u001b[0m\u001b[0;34m\u001b[0m\u001b[0;34m\u001b[0m\u001b[0m\n",
      "\u001b[0;32m~/.local/lib/python3.8/site-packages/lmfit/minimizer.py\u001b[0m in \u001b[0;36mminimize\u001b[0;34m(self, method, params, **kws)\u001b[0m\n\u001b[1;32m   2328\u001b[0m                         val.lower().startswith(user_method)):\n\u001b[1;32m   2329\u001b[0m                     \u001b[0mkwargs\u001b[0m\u001b[0;34m[\u001b[0m\u001b[0;34m'method'\u001b[0m\u001b[0;34m]\u001b[0m \u001b[0;34m=\u001b[0m \u001b[0mval\u001b[0m\u001b[0;34m\u001b[0m\u001b[0;34m\u001b[0m\u001b[0m\n\u001b[0;32m-> 2330\u001b[0;31m         \u001b[0;32mreturn\u001b[0m \u001b[0mfunction\u001b[0m\u001b[0;34m(\u001b[0m\u001b[0;34m**\u001b[0m\u001b[0mkwargs\u001b[0m\u001b[0;34m)\u001b[0m\u001b[0;34m\u001b[0m\u001b[0;34m\u001b[0m\u001b[0m\n\u001b[0m\u001b[1;32m   2331\u001b[0m \u001b[0;34m\u001b[0m\u001b[0m\n\u001b[1;32m   2332\u001b[0m \u001b[0;34m\u001b[0m\u001b[0m\n",
      "\u001b[0;32m~/.local/lib/python3.8/site-packages/lmfit/minimizer.py\u001b[0m in \u001b[0;36mleastsq\u001b[0;34m(self, params, max_nfev, **kws)\u001b[0m\n\u001b[1;32m   1647\u001b[0m         \u001b[0mresult\u001b[0m\u001b[0;34m.\u001b[0m\u001b[0mcall_kws\u001b[0m \u001b[0;34m=\u001b[0m \u001b[0mlskws\u001b[0m\u001b[0;34m\u001b[0m\u001b[0;34m\u001b[0m\u001b[0m\n\u001b[1;32m   1648\u001b[0m         \u001b[0;32mtry\u001b[0m\u001b[0;34m:\u001b[0m\u001b[0;34m\u001b[0m\u001b[0;34m\u001b[0m\u001b[0m\n\u001b[0;32m-> 1649\u001b[0;31m             \u001b[0mlsout\u001b[0m \u001b[0;34m=\u001b[0m \u001b[0mscipy_leastsq\u001b[0m\u001b[0;34m(\u001b[0m\u001b[0mself\u001b[0m\u001b[0;34m.\u001b[0m\u001b[0m__residual\u001b[0m\u001b[0;34m,\u001b[0m \u001b[0mvariables\u001b[0m\u001b[0;34m,\u001b[0m \u001b[0;34m**\u001b[0m\u001b[0mlskws\u001b[0m\u001b[0;34m)\u001b[0m\u001b[0;34m\u001b[0m\u001b[0;34m\u001b[0m\u001b[0m\n\u001b[0m\u001b[1;32m   1650\u001b[0m         \u001b[0;32mexcept\u001b[0m \u001b[0mAbortFitException\u001b[0m\u001b[0;34m:\u001b[0m\u001b[0;34m\u001b[0m\u001b[0;34m\u001b[0m\u001b[0m\n\u001b[1;32m   1651\u001b[0m             \u001b[0;32mpass\u001b[0m\u001b[0;34m\u001b[0m\u001b[0;34m\u001b[0m\u001b[0m\n",
      "\u001b[0;32m~/.local/lib/python3.8/site-packages/scipy/optimize/_minpack_py.py\u001b[0m in \u001b[0;36mleastsq\u001b[0;34m(func, x0, args, Dfun, full_output, col_deriv, ftol, xtol, gtol, maxfev, epsfcn, factor, diag)\u001b[0m\n\u001b[1;32m    411\u001b[0m     \u001b[0;32mif\u001b[0m \u001b[0;32mnot\u001b[0m \u001b[0misinstance\u001b[0m\u001b[0;34m(\u001b[0m\u001b[0margs\u001b[0m\u001b[0;34m,\u001b[0m \u001b[0mtuple\u001b[0m\u001b[0;34m)\u001b[0m\u001b[0;34m:\u001b[0m\u001b[0;34m\u001b[0m\u001b[0;34m\u001b[0m\u001b[0m\n\u001b[1;32m    412\u001b[0m         \u001b[0margs\u001b[0m \u001b[0;34m=\u001b[0m \u001b[0;34m(\u001b[0m\u001b[0margs\u001b[0m\u001b[0;34m,\u001b[0m\u001b[0;34m)\u001b[0m\u001b[0;34m\u001b[0m\u001b[0;34m\u001b[0m\u001b[0m\n\u001b[0;32m--> 413\u001b[0;31m     \u001b[0mshape\u001b[0m\u001b[0;34m,\u001b[0m \u001b[0mdtype\u001b[0m \u001b[0;34m=\u001b[0m \u001b[0m_check_func\u001b[0m\u001b[0;34m(\u001b[0m\u001b[0;34m'leastsq'\u001b[0m\u001b[0;34m,\u001b[0m \u001b[0;34m'func'\u001b[0m\u001b[0;34m,\u001b[0m \u001b[0mfunc\u001b[0m\u001b[0;34m,\u001b[0m \u001b[0mx0\u001b[0m\u001b[0;34m,\u001b[0m \u001b[0margs\u001b[0m\u001b[0;34m,\u001b[0m \u001b[0mn\u001b[0m\u001b[0;34m)\u001b[0m\u001b[0;34m\u001b[0m\u001b[0;34m\u001b[0m\u001b[0m\n\u001b[0m\u001b[1;32m    414\u001b[0m     \u001b[0mm\u001b[0m \u001b[0;34m=\u001b[0m \u001b[0mshape\u001b[0m\u001b[0;34m[\u001b[0m\u001b[0;36m0\u001b[0m\u001b[0;34m]\u001b[0m\u001b[0;34m\u001b[0m\u001b[0;34m\u001b[0m\u001b[0m\n\u001b[1;32m    415\u001b[0m \u001b[0;34m\u001b[0m\u001b[0m\n",
      "\u001b[0;32m~/.local/lib/python3.8/site-packages/scipy/optimize/_minpack_py.py\u001b[0m in \u001b[0;36m_check_func\u001b[0;34m(checker, argname, thefunc, x0, args, numinputs, output_shape)\u001b[0m\n\u001b[1;32m     24\u001b[0m def _check_func(checker, argname, thefunc, x0, args, numinputs,\n\u001b[1;32m     25\u001b[0m                 output_shape=None):\n\u001b[0;32m---> 26\u001b[0;31m     \u001b[0mres\u001b[0m \u001b[0;34m=\u001b[0m \u001b[0matleast_1d\u001b[0m\u001b[0;34m(\u001b[0m\u001b[0mthefunc\u001b[0m\u001b[0;34m(\u001b[0m\u001b[0;34m*\u001b[0m\u001b[0;34m(\u001b[0m\u001b[0;34m(\u001b[0m\u001b[0mx0\u001b[0m\u001b[0;34m[\u001b[0m\u001b[0;34m:\u001b[0m\u001b[0mnuminputs\u001b[0m\u001b[0;34m]\u001b[0m\u001b[0;34m,\u001b[0m\u001b[0;34m)\u001b[0m \u001b[0;34m+\u001b[0m \u001b[0margs\u001b[0m\u001b[0;34m)\u001b[0m\u001b[0;34m)\u001b[0m\u001b[0;34m)\u001b[0m\u001b[0;34m\u001b[0m\u001b[0;34m\u001b[0m\u001b[0m\n\u001b[0m\u001b[1;32m     27\u001b[0m     \u001b[0;32mif\u001b[0m \u001b[0;34m(\u001b[0m\u001b[0moutput_shape\u001b[0m \u001b[0;32mis\u001b[0m \u001b[0;32mnot\u001b[0m \u001b[0;32mNone\u001b[0m\u001b[0;34m)\u001b[0m \u001b[0;32mand\u001b[0m \u001b[0;34m(\u001b[0m\u001b[0mshape\u001b[0m\u001b[0;34m(\u001b[0m\u001b[0mres\u001b[0m\u001b[0;34m)\u001b[0m \u001b[0;34m!=\u001b[0m \u001b[0moutput_shape\u001b[0m\u001b[0;34m)\u001b[0m\u001b[0;34m:\u001b[0m\u001b[0;34m\u001b[0m\u001b[0;34m\u001b[0m\u001b[0m\n\u001b[1;32m     28\u001b[0m         \u001b[0;32mif\u001b[0m \u001b[0;34m(\u001b[0m\u001b[0moutput_shape\u001b[0m\u001b[0;34m[\u001b[0m\u001b[0;36m0\u001b[0m\u001b[0;34m]\u001b[0m \u001b[0;34m!=\u001b[0m \u001b[0;36m1\u001b[0m\u001b[0;34m)\u001b[0m\u001b[0;34m:\u001b[0m\u001b[0;34m\u001b[0m\u001b[0;34m\u001b[0m\u001b[0m\n",
      "\u001b[0;32m~/.local/lib/python3.8/site-packages/lmfit/minimizer.py\u001b[0m in \u001b[0;36m__residual\u001b[0;34m(self, fvars, apply_bounds_transformation)\u001b[0m\n\u001b[1;32m    538\u001b[0m             \u001b[0;32mraise\u001b[0m \u001b[0mAbortFitException\u001b[0m\u001b[0;34m(\u001b[0m\u001b[0;34mf\"fit aborted: too many function evaluations {self.max_nfev}\"\u001b[0m\u001b[0;34m)\u001b[0m\u001b[0;34m\u001b[0m\u001b[0;34m\u001b[0m\u001b[0m\n\u001b[1;32m    539\u001b[0m \u001b[0;34m\u001b[0m\u001b[0m\n\u001b[0;32m--> 540\u001b[0;31m         \u001b[0mout\u001b[0m \u001b[0;34m=\u001b[0m \u001b[0mself\u001b[0m\u001b[0;34m.\u001b[0m\u001b[0muserfcn\u001b[0m\u001b[0;34m(\u001b[0m\u001b[0mparams\u001b[0m\u001b[0;34m,\u001b[0m \u001b[0;34m*\u001b[0m\u001b[0mself\u001b[0m\u001b[0;34m.\u001b[0m\u001b[0muserargs\u001b[0m\u001b[0;34m,\u001b[0m \u001b[0;34m**\u001b[0m\u001b[0mself\u001b[0m\u001b[0;34m.\u001b[0m\u001b[0muserkws\u001b[0m\u001b[0;34m)\u001b[0m\u001b[0;34m\u001b[0m\u001b[0;34m\u001b[0m\u001b[0m\n\u001b[0m\u001b[1;32m    541\u001b[0m \u001b[0;34m\u001b[0m\u001b[0m\n\u001b[1;32m    542\u001b[0m         \u001b[0;32mif\u001b[0m \u001b[0mcallable\u001b[0m\u001b[0;34m(\u001b[0m\u001b[0mself\u001b[0m\u001b[0;34m.\u001b[0m\u001b[0miter_cb\u001b[0m\u001b[0;34m)\u001b[0m\u001b[0;34m:\u001b[0m\u001b[0;34m\u001b[0m\u001b[0;34m\u001b[0m\u001b[0m\n",
      "\u001b[0;32m~/.local/lib/python3.8/site-packages/lmfit/model.py\u001b[0m in \u001b[0;36m_residual\u001b[0;34m(self, params, data, weights, **kwargs)\u001b[0m\n\u001b[1;32m    878\u001b[0m             \u001b[0;32mraise\u001b[0m \u001b[0mValueError\u001b[0m\u001b[0;34m(\u001b[0m\u001b[0mmsg\u001b[0m\u001b[0;34m)\u001b[0m\u001b[0;34m\u001b[0m\u001b[0;34m\u001b[0m\u001b[0m\n\u001b[1;32m    879\u001b[0m \u001b[0;34m\u001b[0m\u001b[0m\n\u001b[0;32m--> 880\u001b[0;31m         \u001b[0mdiff\u001b[0m \u001b[0;34m=\u001b[0m \u001b[0mmodel\u001b[0m \u001b[0;34m-\u001b[0m \u001b[0mdata\u001b[0m\u001b[0;34m\u001b[0m\u001b[0;34m\u001b[0m\u001b[0m\n\u001b[0m\u001b[1;32m    881\u001b[0m \u001b[0;34m\u001b[0m\u001b[0m\n\u001b[1;32m    882\u001b[0m         \u001b[0;32mif\u001b[0m \u001b[0mdiff\u001b[0m\u001b[0;34m.\u001b[0m\u001b[0mdtype\u001b[0m \u001b[0;32mis\u001b[0m \u001b[0mcomplex\u001b[0m\u001b[0;34m:\u001b[0m\u001b[0;34m\u001b[0m\u001b[0;34m\u001b[0m\u001b[0m\n",
      "\u001b[0;31mValueError\u001b[0m: operands could not be broadcast together with shapes (120,) (121,) "
     ]
    }
   ],
   "source": [
    "model = lmf.Model(hydride_gaussian_fitting)\n",
    "\n",
    "\n",
    "params = model.make_params()\n",
    "\n",
    "for name, value in zip(params, popt_hydride):\n",
    "    params[name].value = value\n",
    "\n",
    "result = model.fit(V_Total_l, params, r=r_Bohr_l)\n",
    "\n",
    "#print(result.fit_report())\n",
    "\n",
    "plt.figure()\n",
    "plt.scatter(r_Bohr_l, V_Total_l, label='$V_{Total}$', color = \"red\")\n",
    "#plt.scatter(r_Bohr_l, result.init_fit, label='inital')\n",
    "plt.plot(r_Bohr_l, result.best_fit, label='Fitted potential')\n",
    "\n",
    "plt.ylim(-0.5,1.0)\n",
    "plt.xlim(-2,25)\n",
    "plt.xlabel(\"Bohr\")\n",
    "plt.ylabel(\"$E_h$\")\n",
    "\n",
    "plt.legend()"
   ]
  },
  {
   "cell_type": "code",
   "execution_count": 372,
   "id": "386343ca",
   "metadata": {},
   "outputs": [
    {
     "data": {
      "image/png": "[encoded data removed]",
      "text/plain": [
       "<Figure size 432x288 with 1 Axes>"
      ]
     },
     "metadata": {
      "needs_background": "light"
     },
     "output_type": "display_data"
    }
   ],
   "source": []
  },
  {
   "cell_type": "code",
   "execution_count": 420,
   "id": "2489bd59",
   "metadata": {},
   "outputs": [
    {
     "name": "stdout",
     "output_type": "stream",
     "text": [
      "[[Model]]\n",
      "    Model(hydride)\n",
      "[[Fit Statistics]]\n",
      "    # fitting method   = leastsq\n",
      "    # function evals   = 16\n",
      "    # data points      = 122\n",
      "    # variables        = 14\n",
      "    chi-square         = 0.01952031\n",
      "    reduced chi-square = 1.8074e-04\n",
      "    Akaike info crit   = -1038.31914\n",
      "    Bayesian info crit = -999.062848\n",
      "    R-squared          = 0.99997786\n",
      "[[Variables]]\n",
      "    a_0:  0.99094123 +/- 0.12623548 (12.74%) (init = 0.9909781)\n",
      "    a_1:  1.83877528 +/- 0.66863533 (36.36%) (init = 1.838974)\n",
      "    a_2:  4.37522253 +/- 4.42502679 (101.14%) (init = 4.375855)\n",
      "    a_3:  22.2860386 +/- 3.63088604 (16.29%) (init = 22.28541)\n",
      "    a_4: -0.31744048 +/- 0.00299556 (0.94%) (init = -0.3174402)\n",
      "    a_5:  2.86109816 +/- 2.23706707 (78.19%) (init = 2.861613)\n",
      "    a_6:  7.50140696 +/- 3.04699537 (40.62%) (init = 7.501429)\n",
      "    b_0:  1.58197033 +/- 0.11143021 (7.04%) (init = 1.582001)\n",
      "    b_1:  6.56704469 +/- 1.68270746 (25.62%) (init = 6.567573)\n",
      "    b_2:  60.5554279 +/- 64.9309081 (107.23%) (init = 60.57038)\n",
      "    b_3:  570.414133 +/- 301.774428 (52.90%) (init = 570.4614)\n",
      "    b_4:  0.01296353 +/- 7.9048e-04 (6.10%) (init = 0.01296348)\n",
      "    b_5:  21.4193899 +/- 13.3102501 (62.14%) (init = 21.42321)\n",
      "    b_6:  164.361062 +/- 184.661802 (112.35%) (init = 164.3944)\n",
      "[[Correlations]] (unreported correlations are < 0.100)\n",
      "    C(a_3, b_6) = -0.9977\n",
      "    C(a_2, a_3) = -0.9838\n",
      "    C(a_2, b_6) = +0.9819\n",
      "    C(a_3, b_3) = -0.9812\n",
      "    C(b_3, b_6) = +0.9808\n",
      "    C(a_5, b_2) = +0.9797\n",
      "    C(a_0, b_0) = +0.9665\n",
      "    C(a_2, b_3) = +0.9615\n",
      "    C(a_1, b_5) = +0.9572\n",
      "    C(a_1, b_1) = +0.9415\n",
      "    C(b_2, b_6) = +0.9349\n",
      "    C(a_5, b_5) = +0.9259\n",
      "    C(a_3, b_2) = -0.9192\n",
      "    C(a_0, b_1) = +0.9047\n",
      "    C(b_2, b_5) = +0.8953\n",
      "    C(a_2, b_2) = +0.8873\n",
      "    C(b_2, b_3) = +0.8604\n",
      "    C(b_1, b_5) = +0.8588\n",
      "    C(a_5, b_6) = +0.8583\n",
      "    C(a_3, a_5) = -0.8366\n",
      "    C(b_0, b_1) = +0.8087\n",
      "    C(a_2, a_5) = +0.7931\n",
      "    C(a_1, a_5) = +0.7820\n",
      "    C(a_5, b_3) = +0.7678\n",
      "    C(a_1, b_2) = +0.7542\n",
      "    C(a_6, b_3) = +0.7461\n",
      "    C(a_4, b_4) = -0.7336\n",
      "    C(b_5, b_6) = +0.7237\n",
      "    C(a_0, a_1) = +0.7184\n",
      "    C(a_3, b_5) = -0.6987\n",
      "    C(a_0, b_5) = +0.6318\n",
      "    C(b_3, b_5) = +0.6316\n",
      "    C(a_3, a_6) = -0.6297\n",
      "    C(a_5, b_1) = +0.6287\n",
      "    C(b_1, b_2) = +0.6256\n",
      "    C(a_2, a_6) = +0.6134\n",
      "    C(a_2, b_5) = +0.6105\n",
      "    C(a_6, b_6) = +0.6083\n",
      "    C(a_1, b_0) = +0.6003\n",
      "    C(a_1, b_6) = +0.5703\n",
      "    C(a_1, a_3) = -0.5461\n",
      "    C(b_0, b_5) = +0.5325\n",
      "    C(a_4, b_0) = +0.4942\n",
      "    C(a_1, b_3) = +0.4874\n",
      "    C(b_1, b_6) = +0.4593\n",
      "    C(a_3, b_1) = -0.4382\n",
      "    C(a_1, a_2) = +0.4361\n",
      "    C(a_0, b_2) = +0.4184\n",
      "    C(a_0, a_5) = +0.3970\n",
      "    C(b_1, b_3) = +0.3893\n",
      "    C(a_0, a_4) = +0.3593\n",
      "    C(b_0, b_2) = +0.3456\n",
      "    C(a_2, b_1) = +0.3300\n",
      "    C(a_5, b_0) = +0.3219\n",
      "    C(a_6, b_2) = +0.3082\n",
      "    C(b_0, b_4) = -0.3028\n",
      "    C(a_0, b_6) = +0.2964\n",
      "    C(a_0, a_3) = -0.2816\n",
      "    C(a_4, b_1) = +0.2577\n",
      "    C(a_0, b_3) = +0.2488\n",
      "    C(b_0, b_6) = +0.2432\n",
      "    C(a_3, b_0) = -0.2309\n",
      "    C(a_0, b_4) = -0.2104\n",
      "    C(b_0, b_3) = +0.2037\n",
      "    C(a_0, a_2) = +0.1950\n",
      "    C(a_5, a_6) = +0.1713\n",
      "    C(a_2, b_0) = +0.1570\n",
      "    C(a_1, a_4) = +0.1568\n",
      "    C(b_1, b_4) = -0.1507\n",
      "    C(a_4, b_5) = +0.1468\n"
     ]
    }
   ],
   "source": [
    "print(result.fit_report())\n"
   ]
  },
  {
   "cell_type": "code",
   "execution_count": 488,
   "id": "257e1fca",
   "metadata": {},
   "outputs": [],
   "source": [
    "temporal_hydride_potential_list = [\"POTENTIALSH2SCAN/T\"+str(i) for i in range(0,298,1)]\n",
    "centers = [[[j,0.0,0.0] for i in np.arange(0,10)] for j in np.arange(0.4,60.2,0.2)]\n",
    "\n",
    "dihydride_potential_list = [\"/home/pmorenor/Desktop/LOWDIN/dependencies/bin/.lowdin2/lib/potentials/P\"+str(i) for i in range(0,298,1)]\n",
    "\n",
    "for i,j,k in zip(temporal_hydride_potential_list,centers,dihydride_potential_list):\n",
    "    write_potential_to_lowdin_format(i,\"E+\",[int(0) for i in range(0,10)],np.split(popt_hydride,2)[1],np.split(popt_hydride,2)[0],j)\n",
    "    join_lowdin_potentials(\"HMT\",i,k)\n",
    "\n",
    "    \n"
   ]
  },
  {
   "cell_type": "code",
   "execution_count": 443,
   "id": "6cccbcf2",
   "metadata": {},
   "outputs": [],
   "source": [
    "#write_potential_to_lowdin_format(\"TWOESBE\",\"E+\",[int(0) for i in range(0,9)],np.split(popt_Vpcesp,2)[1],np.split(popt_Vpcesp,2)[0],[[4.636,0.0,0.0] for i in range(0,9)])\n",
    "temporal_dibe_potential_list = [\"POTENTIALSBESCAN/L\"+str(i) for i in range(0,298,1)]\n",
    "centers = [[[j,0.0,0.0] for i in np.arange(0,9)] for j in np.arange(0.4,60.2,0.2)]\n",
    "\n",
    "dibe_potential_list = [\"/home/pmorenor/Desktop/LOWDIN/dependencies/bin/.lowdin2/lib/potentials/T\"+str(i) for i in range(0,298,1)]\n",
    "    \n",
    "for i,j,k in zip(temporal_dibe_potential_list,centers,dibe_potential_list):\n",
    "    write_potential_to_lowdin_format(i,\"E+\",[int(0) for i in range(0,9)],np.split(popt_Vpcesp,2)[1],np.split(popt_Vpcesp,2)[0],j)\n",
    "    join_lowdin_potentials(\"EEBE\",i,k)\n"
   ]
  },
  {
   "cell_type": "code",
   "execution_count": null,
   "id": "fe106388",
   "metadata": {},
   "outputs": [],
   "source": []
  }
 ],
 "metadata": {
  "kernelspec": {
   "display_name": "Python 3 (ipykernel)",
   "language": "python",
   "name": "python3"
  },
  "language_info": {
   "codemirror_mode": {
    "name": "ipython",
    "version": 3
   },
   "file_extension": ".py",
   "mimetype": "text/x-python",
   "name": "python",
   "nbconvert_exporter": "python",
   "pygments_lexer": "ipython3",
   "version": "3.10.7"
  }
 },
 "nbformat": 4,
 "nbformat_minor": 5
}
