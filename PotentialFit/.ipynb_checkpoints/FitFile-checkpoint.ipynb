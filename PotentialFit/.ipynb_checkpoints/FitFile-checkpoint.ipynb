{
 "cells": [
  {
   "cell_type": "code",
   "execution_count": 23,
   "id": "8d64e5c9",
   "metadata": {},
   "outputs": [
    {
     "name": "stdout",
     "output_type": "stream",
     "text": [
      "[-1.13943121e+00 -2.26430702e+00 -3.82897737e+00 -5.32103728e-01\n",
      " -1.56568835e-01 -3.26133962e+01 -7.58770868e+00 -1.26696350e+01\n",
      "  8.85097810e-02  4.49129040e-01  2.23094881e+00  1.47172723e-02\n",
      "  1.09952677e-03  2.35132108e+02  1.02191616e+01  4.45433156e+01]\n",
      "[1.19402655e-02 1.95068444e-02 3.63295685e-02 5.53632299e-03\n",
      " 1.21235861e-03 5.08857321e-02 5.89255228e-02 6.57474016e-02\n",
      " 1.38187281e-03 6.56966781e-03 3.39645430e-02 2.29896674e-04\n",
      " 1.61409520e-05 1.32973976e+00 1.34703002e-01 5.11184756e-01]\n"
     ]
    },
    {
     "data": {
      "image/png": "[encoded data removed]",
      "text/plain": [
       "<Figure size 432x288 with 1 Axes>"
      ]
     },
     "metadata": {
      "needs_background": "light"
     },
     "output_type": "display_data"
    }
   ],
   "source": [
    "import numpy as np \n",
    "import pandas as pd \n",
    "import matplotlib.pyplot as plt \n",
    "from scipy.optimize import curve_fit\n",
    "\n",
    "\n",
    "def gaussians(r,a_0,a_1,a_2,a_3,a_4,a_5,a_6,a_7,b_0,b_1,b_2,b_3,b_4,b_5,b_6,b_7):\n",
    "\treturn a_0*np.exp(-b_0*(r)**2)+a_1*np.exp(-b_1*(r)**2)+a_2*np.exp(-b_2*(r)**2)+a_3*np.exp(-b_3*(r)**2)+a_4*np.exp(-b_4*(r)**2)+a_4*np.exp(-b_4*(r)**2)+a_5*np.exp(-b_5*(r)**2)+a_6*np.exp(-b_6*(r)**2)+a_7*np.exp(-b_7*(r)**2)\n",
    "\n",
    "def exponential_fit(r,a_0,a_1,a_2,b_0,b_1,b_2):\n",
    "    return a_0*np.exp(b_0*r)+a_1*np.exp(b_1*r)+a_2*np.exp(b_2*r)\n",
    "def nuclear_potential(r,Z=4):\n",
    "    V_ne = [Z/i for i in r]\n",
    "    return V_ne\n",
    "\n",
    "\n",
    "\n",
    "\n",
    "def substract_nuclei_coulomb(V_total,V_ne):\n",
    "    V_ee = [(i-j) for i,j in zip(V_total,V_ne)]\n",
    "    return V_ee\n",
    "\n",
    "\n",
    "\n",
    "\n",
    "\n",
    "#------------------------------------\n",
    "# Retrieving the ESP data\n",
    "\n",
    "ESP_data = pd.read_csv(\"line.txt\", delim_whitespace=True, engine=\"python\", header=None)\n",
    "x = ESP_data[0].astype(float)[1:]\n",
    "y = ESP_data[1].astype(float)\n",
    "z = ESP_data[2].astype(float)\n",
    "xr = ESP_data[0].astype(float)[1:]\n",
    "v = ESP_data[4].astype(float)[1:]\n",
    "# ----------------------------------\n",
    "\n",
    "\n",
    "\n",
    "#------------------------------------\n",
    "#Substracting nucleus-electron contribution\n",
    "V_ne = nuclear_potential(x)\n",
    "V_ee = substract_nuclei_coulomb(v,V_ne)\n",
    "\n",
    "popt, pcov = curve_fit(gaussians, xdata = x, ydata = V_ee, maxfev=50000)\n",
    "#popt, pcov = curve_fit(exponential_fit, xdata = x, ydata = V_ee, maxfev=5000000)\n",
    "\n",
    "print(popt)\n",
    "print(np.sqrt(np.diag(pcov)))\n",
    "\n",
    "fit_parameters = np.split(popt, 2)\n",
    "coefficients = fit_parameters[0]\n",
    "exponents = fit_parameters[1]\n",
    "\n",
    "angularMoment = list()\n",
    "for i in range(0,len(exponents)):\n",
    "    angularMoment.append(0)\n",
    "\n",
    "potentialName = \"ESP\"\n",
    "species=\"E+\"\n",
    "\n",
    "outFile = open (potentialName,\"w\")\n",
    "\n",
    "outFile.write(\"O-\"+species+\"\\n\")\n",
    "outFile.write(\"#\\n\")\n",
    "outFile.write(\"%i\\n\" % (len(exponents)))\n",
    "\n",
    "for i in range(0,len(exponents)) :\n",
    "        outFile.write( str(i+1) + \" \"+ str(angularMoment[i])+\"\\n\" )\n",
    "        outFile.write( \"%.8f %.8e\\n\" % (exponents[i], coefficients[i]) )\n",
    "        aux = \"\"\n",
    "        for k in range(0,3):\n",
    "            aux = \"0 0 0\"\n",
    "        outFile.write( aux + \"\\n\")\n",
    "\n",
    "outFile.close()\n",
    "\n",
    "#print(gaussians(0,*popt))\n",
    "\n",
    "\n",
    "plt.figure()\n",
    "plt.plot(x,V_ee, color = \"red\",label=\"Electronic electrostatic potential\")\n",
    "#plt.plot(xr,v,color = \"blue\")\n",
    "plt.plot(np.arange(0,50,0.1), gaussians(np.arange(0,50,0.1),*popt), color = \"green\", linestyle=\"dashed\", label=\"EEP fitted with gaussians\")\n",
    "#plt.plot(x, exponential_fit(x,*popt), color = \"green\", linestyle=\"dashed\", label=\"EEP fitted with gaussians\")\n",
    "plt.legend()\n",
    "plt.ylim([-2,0])\n",
    "plt.show()\n"
   ]
  },
  {
   "cell_type": "code",
   "execution_count": null,
   "id": "e4e08c27",
   "metadata": {},
   "outputs": [],
   "source": []
  },
  {
   "cell_type": "code",
   "execution_count": 2,
   "id": "a603cb51",
   "metadata": {},
   "outputs": [
    {
     "name": "stdout",
     "output_type": "stream",
     "text": [
      "[ -1.13943121  -2.26430702  -3.82897737  -0.53210373  -0.15656883\n",
      " -32.61339622  -7.58770868 -12.66963503]\n",
      "[8.85097810e-02 4.49129040e-01 2.23094881e+00 1.47172723e-02\n",
      " 1.09952677e-03 2.35132108e+02 1.02191616e+01 4.45433156e+01]\n"
     ]
    }
   ],
   "source": [
    "fit_parameters = np.split(popt, 2)\n",
    "coefficients = fit_parameters[0]\n",
    "exponents = fit_parameters[1]\n",
    "print(coefficients)\n",
    "print(exponents)"
   ]
  },
  {
   "cell_type": "code",
   "execution_count": 4,
   "id": "1820762b",
   "metadata": {},
   "outputs": [
    {
     "name": "stdout",
     "output_type": "stream",
     "text": [
      "[-0.000485261216, 0.00244417831, -0.00754488737, 0.0157738437, -0.0371036225, 0.0538567205, -0.197756262, 0.152115096, -2.23099311, 7.15444061, -16.4610761, 120.06745, -1010.44414, 5912.51755, -22883.6471, 58320.2479, -96733.7399, 100515.593, -59492.9273, 15337.5181, -108.319453, 58.7242217, -33.9818623, 10.1503518, -0.203970181]\n"
     ]
    }
   ],
   "source": [
    "#Now we are going to extract the Be Vpc\n",
    "angularMomentVpc = []\n",
    "exponentsVpc = []\n",
    "coefficientsVpc = []\n",
    "\n",
    "Positron_PC_Potential = \"BEPOSIPOT\"\n",
    "\n",
    "with open(Positron_PC_Potential, 'r') as inFile:\n",
    "    lines = inFile.readlines()[3:]  # Skip the first 3 lines\n",
    "    \n",
    "    for i in range(0, len(lines), 3):  # Loop over every set of 4 lines starting from the 4th line\n",
    "        # Read angular moment\n",
    "        angularMomentVpc.append(float(lines[i].split()[1]))\n",
    "        \n",
    "        # Read exponent and coefficient\n",
    "        exponentsVpc.append(float(lines[i+1].split()[0]))\n",
    "        coefficientsVpc.append(float(lines[i+1].split()[1]))\n",
    "\n",
    "# Now `angularMoment`, `exponents`, and `coefficients` are reconstructed.\n",
    "print(coefficientsVpc)"
   ]
  },
  {
   "cell_type": "code",
   "execution_count": 5,
   "id": "f45dada1",
   "metadata": {},
   "outputs": [
    {
     "data": {
      "image/png": "[encoded data removed]",
      "text/plain": [
       "<Figure size 432x288 with 1 Axes>"
      ]
     },
     "metadata": {
      "needs_background": "light"
     },
     "output_type": "display_data"
    }
   ],
   "source": [
    "def Polarization_Correlation_Potential(r,a,b):\n",
    "    value = 0.0\n",
    "    for i,j in zip(a,b):\n",
    "        value += i*np.exp(-j*r**2)\n",
    "    return value\n",
    "\n",
    "def total_potential(r,a,b):\n",
    "    value = 0.0\n",
    "    for i,j in zip(a,b):\n",
    "        value += i*np.exp(-j*r**2) + gaussians(r,*popt)\n",
    "    return value\n",
    "\n",
    "\n",
    "plt.figure()\n",
    "#plt.plot(np.arange(0,10,0.1),Polarization_Correlation_Potential(np.arange(0,10,0.1),coefficientsVpc,exponentsVpc))\n",
    "#plt.plot(np.arange(0,10,0.1), gaussians(np.arange(0,10,0.1),*popt), color = \"green\", linestyle=\"dashed\", label=\"EEP fitted with gaussians\")\n",
    "plt.plot(np.arange(1,10,0.1), total_potential(np.arange(1,10,0.1),coefficientsVpc,exponentsVpc), color = \"green\", linestyle=\"dashed\", label=\"EEP fitted with gaussians\")\n",
    "#plt.ylim([-2,1])\n",
    "plt.show()\n",
    "    "
   ]
  },
  {
   "cell_type": "code",
   "execution_count": 6,
   "id": "51db2a51",
   "metadata": {},
   "outputs": [
    {
     "data": {
      "image/png": "[encoded data removed]",
      "text/plain": [
       "<Figure size 432x288 with 1 Axes>"
      ]
     },
     "metadata": {
      "needs_background": "light"
     },
     "output_type": "display_data"
    }
   ],
   "source": [
    "plt.figure()\n",
    "plt.plot(np.arange(0,10,0.1),Polarization_Correlation_Potential(np.arange(0,10,0.1),coefficientsVpc,exponentsVpc))\n",
    "\n",
    "plt.show()"
   ]
  },
  {
   "cell_type": "code",
   "execution_count": 7,
   "id": "e1ab00e1",
   "metadata": {},
   "outputs": [
    {
     "data": {
      "image/png": "[encoded data removed]",
      "text/plain": [
       "<Figure size 432x288 with 1 Axes>"
      ]
     },
     "metadata": {
      "needs_background": "light"
     },
     "output_type": "display_data"
    }
   ],
   "source": [
    "total_potential_data = [total_potential(i,coefficientsVpc,exponentsVpc) for i in np.arange(0.1,10,0.1)]\n",
    "plt.plot(np.arange(0.1,10,0.1),total_potential(np.arange(0.1,10,0.1),coefficientsVpc,exponentsVpc) )\n",
    "plt.show()"
   ]
  },
  {
   "cell_type": "code",
   "execution_count": 8,
   "id": "d45da9c0",
   "metadata": {},
   "outputs": [
    {
     "name": "stderr",
     "output_type": "stream",
     "text": [
      "/tmp/ipykernel_561439/447505217.py:8: RuntimeWarning: overflow encountered in exp\n",
      "  return a_0*np.exp(-b_0*(r)**2)+a_1*np.exp(-b_1*(r)**2)+a_2*np.exp(-b_2*(r)**2)+a_3*np.exp(-b_3*(r)**2)+a_4*np.exp(-b_4*(r)**2)+a_4*np.exp(-b_4*(r)**2)+a_5*np.exp(-b_5*(r)**2)+a_6*np.exp(-b_6*(r)**2)+a_7*np.exp(-b_7*(r)**2)\n"
     ]
    },
    {
     "ename": "RuntimeError",
     "evalue": "Optimal parameters not found: Number of calls to function has reached maxfev = 5000.",
     "output_type": "error",
     "traceback": [
      "\u001b[0;31m---------------------------------------------------------------------------\u001b[0m",
      "\u001b[0;31mRuntimeError\u001b[0m                              Traceback (most recent call last)",
      "\u001b[0;32m/tmp/ipykernel_561439/3667711380.py\u001b[0m in \u001b[0;36m<module>\u001b[0;34m\u001b[0m\n\u001b[1;32m      1\u001b[0m \u001b[0mtotal_potential_data\u001b[0m \u001b[0;34m=\u001b[0m \u001b[0;34m[\u001b[0m\u001b[0mtotal_potential\u001b[0m\u001b[0;34m(\u001b[0m\u001b[0mi\u001b[0m\u001b[0;34m,\u001b[0m\u001b[0mcoefficientsVpc\u001b[0m\u001b[0;34m,\u001b[0m\u001b[0mexponentsVpc\u001b[0m\u001b[0;34m)\u001b[0m \u001b[0;32mfor\u001b[0m \u001b[0mi\u001b[0m \u001b[0;32min\u001b[0m \u001b[0mnp\u001b[0m\u001b[0;34m.\u001b[0m\u001b[0marange\u001b[0m\u001b[0;34m(\u001b[0m\u001b[0;36m0.1\u001b[0m\u001b[0;34m,\u001b[0m\u001b[0;36m10\u001b[0m\u001b[0;34m,\u001b[0m\u001b[0;36m0.1\u001b[0m\u001b[0;34m)\u001b[0m\u001b[0;34m]\u001b[0m\u001b[0;34m\u001b[0m\u001b[0;34m\u001b[0m\u001b[0m\n\u001b[0;32m----> 2\u001b[0;31m \u001b[0mpopt2\u001b[0m\u001b[0;34m,\u001b[0m \u001b[0mpcov2\u001b[0m \u001b[0;34m=\u001b[0m \u001b[0mcurve_fit\u001b[0m\u001b[0;34m(\u001b[0m\u001b[0mgaussians\u001b[0m\u001b[0;34m,\u001b[0m \u001b[0mxdata\u001b[0m \u001b[0;34m=\u001b[0m \u001b[0mnp\u001b[0m\u001b[0;34m.\u001b[0m\u001b[0marange\u001b[0m\u001b[0;34m(\u001b[0m\u001b[0;36m0.1\u001b[0m\u001b[0;34m,\u001b[0m\u001b[0;36m10\u001b[0m\u001b[0;34m,\u001b[0m\u001b[0;36m0.1\u001b[0m\u001b[0;34m)\u001b[0m\u001b[0;34m,\u001b[0m \u001b[0mydata\u001b[0m \u001b[0;34m=\u001b[0m \u001b[0mtotal_potential_data\u001b[0m\u001b[0;34m,\u001b[0m \u001b[0mmaxfev\u001b[0m\u001b[0;34m=\u001b[0m\u001b[0;36m5000\u001b[0m\u001b[0;34m)\u001b[0m\u001b[0;34m\u001b[0m\u001b[0;34m\u001b[0m\u001b[0m\n\u001b[0m\u001b[1;32m      3\u001b[0m \u001b[0mplt\u001b[0m\u001b[0;34m.\u001b[0m\u001b[0mfigure\u001b[0m\u001b[0;34m(\u001b[0m\u001b[0;34m)\u001b[0m\u001b[0;34m\u001b[0m\u001b[0;34m\u001b[0m\u001b[0m\n\u001b[1;32m      4\u001b[0m \u001b[0;31m#plt.plot(np.arange(0.1,10,0.1), gaussians(np.arange(0.1,10,0.1),*popt2), color = \"green\", linestyle=\"dashed\", label=\"EEP fitted with gaussians\")\u001b[0m\u001b[0;34m\u001b[0m\u001b[0;34m\u001b[0m\u001b[0m\n\u001b[1;32m      5\u001b[0m \u001b[0mplt\u001b[0m\u001b[0;34m.\u001b[0m\u001b[0mplot\u001b[0m\u001b[0;34m(\u001b[0m\u001b[0mnp\u001b[0m\u001b[0;34m.\u001b[0m\u001b[0marange\u001b[0m\u001b[0;34m(\u001b[0m\u001b[0;36m0.1\u001b[0m\u001b[0;34m,\u001b[0m\u001b[0;36m10\u001b[0m\u001b[0;34m,\u001b[0m\u001b[0;36m0.1\u001b[0m\u001b[0;34m)\u001b[0m\u001b[0;34m,\u001b[0m \u001b[0mtotal_potential_data\u001b[0m\u001b[0;34m,\u001b[0m \u001b[0mcolor\u001b[0m \u001b[0;34m=\u001b[0m \u001b[0;34m\"green\"\u001b[0m\u001b[0;34m,\u001b[0m \u001b[0mlinestyle\u001b[0m\u001b[0;34m=\u001b[0m\u001b[0;34m\"dashed\"\u001b[0m\u001b[0;34m,\u001b[0m \u001b[0mlabel\u001b[0m\u001b[0;34m=\u001b[0m\u001b[0;34m\"EEP fitted with gaussians\"\u001b[0m\u001b[0;34m)\u001b[0m\u001b[0;34m\u001b[0m\u001b[0;34m\u001b[0m\u001b[0m\n",
      "\u001b[0;32m/usr/lib/python3/dist-packages/scipy/optimize/_minpack_py.py\u001b[0m in \u001b[0;36mcurve_fit\u001b[0;34m(f, xdata, ydata, p0, sigma, absolute_sigma, check_finite, bounds, method, jac, **kwargs)\u001b[0m\n\u001b[1;32m    792\u001b[0m         \u001b[0mcost\u001b[0m \u001b[0;34m=\u001b[0m \u001b[0mnp\u001b[0m\u001b[0;34m.\u001b[0m\u001b[0msum\u001b[0m\u001b[0;34m(\u001b[0m\u001b[0minfodict\u001b[0m\u001b[0;34m[\u001b[0m\u001b[0;34m'fvec'\u001b[0m\u001b[0;34m]\u001b[0m \u001b[0;34m**\u001b[0m \u001b[0;36m2\u001b[0m\u001b[0;34m)\u001b[0m\u001b[0;34m\u001b[0m\u001b[0;34m\u001b[0m\u001b[0m\n\u001b[1;32m    793\u001b[0m         \u001b[0;32mif\u001b[0m \u001b[0mier\u001b[0m \u001b[0;32mnot\u001b[0m \u001b[0;32min\u001b[0m \u001b[0;34m[\u001b[0m\u001b[0;36m1\u001b[0m\u001b[0;34m,\u001b[0m \u001b[0;36m2\u001b[0m\u001b[0;34m,\u001b[0m \u001b[0;36m3\u001b[0m\u001b[0;34m,\u001b[0m \u001b[0;36m4\u001b[0m\u001b[0;34m]\u001b[0m\u001b[0;34m:\u001b[0m\u001b[0;34m\u001b[0m\u001b[0;34m\u001b[0m\u001b[0m\n\u001b[0;32m--> 794\u001b[0;31m             \u001b[0;32mraise\u001b[0m \u001b[0mRuntimeError\u001b[0m\u001b[0;34m(\u001b[0m\u001b[0;34m\"Optimal parameters not found: \"\u001b[0m \u001b[0;34m+\u001b[0m \u001b[0merrmsg\u001b[0m\u001b[0;34m)\u001b[0m\u001b[0;34m\u001b[0m\u001b[0;34m\u001b[0m\u001b[0m\n\u001b[0m\u001b[1;32m    795\u001b[0m     \u001b[0;32melse\u001b[0m\u001b[0;34m:\u001b[0m\u001b[0;34m\u001b[0m\u001b[0;34m\u001b[0m\u001b[0m\n\u001b[1;32m    796\u001b[0m         \u001b[0;31m# Rename maxfev (leastsq) to max_nfev (least_squares), if specified.\u001b[0m\u001b[0;34m\u001b[0m\u001b[0;34m\u001b[0m\u001b[0m\n",
      "\u001b[0;31mRuntimeError\u001b[0m: Optimal parameters not found: Number of calls to function has reached maxfev = 5000."
     ]
    }
   ],
   "source": [
    "total_potential_data = [total_potential(i,coefficientsVpc,exponentsVpc) for i in np.arange(0.1,10,0.1)]\n",
    "popt2, pcov2 = curve_fit(gaussians, xdata = np.arange(0.1,10,0.1), ydata = total_potential_data, maxfev=5000)\n",
    "plt.figure()\n",
    "#plt.plot(np.arange(0.1,10,0.1), gaussians(np.arange(0.1,10,0.1),*popt2), color = \"green\", linestyle=\"dashed\", label=\"EEP fitted with gaussians\")\n",
    "plt.plot(np.arange(0.1,10,0.1), total_potential_data, color = \"green\", linestyle=\"dashed\", label=\"EEP fitted with gaussians\")\n",
    "plt.plot()\n"
   ]
  },
  {
   "cell_type": "code",
   "execution_count": null,
   "id": "705c60b6",
   "metadata": {},
   "outputs": [],
   "source": [
    "\n",
    "V_pc = [Polarization_Correlation_Potential(i,coefficientsVpc,exponentsVpc) for i in x]\n",
    "\n",
    "V_total = [i + j for i,j in zip(v,V_pc)]\n",
    "\n",
    "plt.figure()\n",
    "#plt.plot(x,V_pc)\n",
    "plt.ylim([-0.5,0.5])\n",
    "plt.xlim([0.0,50])\n",
    "plt.plot(x,V_total)\n",
    "plt.show()\n"
   ]
  },
  {
   "cell_type": "code",
   "execution_count": 9,
   "id": "3442c569",
   "metadata": {},
   "outputs": [
    {
     "data": {
      "image/png": "[encoded data removed]",
      "text/plain": [
       "<Figure size 432x288 with 1 Axes>"
      ]
     },
     "metadata": {
      "needs_background": "light"
     },
     "output_type": "display_data"
    }
   ],
   "source": [
    "V_pc = Polarization_Correlation_Potential(x,coefficientsVpc,exponentsVpc) \n",
    "#V_ee = exponential_fit(x,*popt)\n",
    "V_ee = gaussians(x,*popt)\n",
    "\n",
    "V_N = nuclear_potential(x)\n",
    "\n",
    "V_total_fits = [i+j+k for i,j,k in zip(V_N,V_ee,V_pc)]\n",
    "\n",
    "V_ee_epc = [i+j for i,j in zip(V_ee,V_pc)]\n",
    "\n",
    "V_total_data = [i + j for i,j in zip(v,V_pc)]\n",
    "\n",
    "\n",
    "plt.figure()\n",
    "#plt.plot(x,V_total[0])\n",
    "plt.plot(x,V_total_fits, color = \"blue\", label = \"Fit\")\n",
    "plt.plot(x,V_total_data, color = \"red\", label = \"Data\")\n",
    "plt.axhline(y=0)\n",
    "plt.legend()\n",
    "plt.ylim([-0.5,0.5])\n",
    "plt.xlim([0.0,25])\n",
    "plt.show()"
   ]
  },
  {
   "cell_type": "code",
   "execution_count": null,
   "id": "23d8c0cb",
   "metadata": {},
   "outputs": [],
   "source": [
    "plt.figure()\n",
    "plt.plot(x,V_ee)\n",
    "plt.show()"
   ]
  },
  {
   "cell_type": "code",
   "execution_count": null,
   "id": "bd5db5d1",
   "metadata": {},
   "outputs": [],
   "source": [
    "\n",
    "non_negative_exponents=[-i for i in exponents]\n",
    "\n",
    "total_angularMomentum = [*angularMomentVpc, *angularMoment]\n",
    "total_coefficients = [*coefficientsVpc, *coefficients]\n",
    "total_exponents = [*exponentsVpc, *non_negative_exponents]\n",
    "\n",
    "\n",
    "potentialName = \"EPCPOT\"\n",
    "species=\"E+\"\n",
    "\n",
    "outFile = open (potentialName,\"w\")\n",
    "\n",
    "outFile.write(\"O-\"+species+\"\\n\")\n",
    "outFile.write(\"#\\n\")\n",
    "outFile.write(\"%i\\n\" % (len(total_exponents)))\n",
    "\n",
    "for i in range(0,len(total_exponents)) :\n",
    "        outFile.write( str(i+1) + \" \"+ str(int(total_angularMomentum[i]))+\"\\n\" )\n",
    "        outFile.write( \"%.8f %.8e\\n\" % (total_exponents[i], total_coefficients[i]) )\n",
    "        aux = \"\"\n",
    "        for k in range(0,3):\n",
    "            aux = \"0 0 0\"\n",
    "        outFile.write( aux + \"\\n\")\n",
    "\n",
    "outFile.close()\n"
   ]
  },
  {
   "cell_type": "code",
   "execution_count": null,
   "id": "eb573e5f",
   "metadata": {},
   "outputs": [],
   "source": [
    "angularMomentTotal = []\n",
    "exponentsTotal = []\n",
    "coefficientsTotal = []\n",
    "\n",
    "Pot = \"CONTRIB\"\n",
    "\n",
    "with open(Pot, 'r') as inFile:\n",
    "    lines = inFile.readlines()[3:]  # Skip the first 3 lines\n",
    "    for i in range(0, len(lines), 3):  # Loop over every set of 4 lines starting from the 4th line\n",
    "        # Read angular moment\n",
    "        angularMomentTotal.append(float(lines[i].split()[1]))\n",
    "        \n",
    "        # Read exponent and coefficient\n",
    "        exponentsTotal.append(float(lines[i+1].split()[0]))\n",
    "        coefficientsTotal.append(float(lines[i+1].split()[1]))\n",
    "\n",
    "\n",
    "\n",
    "def potential(r,a,b):\n",
    "    value = 0\n",
    "    for i,j in zip(a,b):\n",
    "        value += i*np.exp(-j*r**2)\n",
    "    return value\n",
    "\n",
    "print(len(coefficientsTotal))\n",
    "\n",
    "total_potential = potential(x,coefficientsTotal,exponentsTotal)\n",
    "\n",
    "plt.figure()\n",
    "plt.plot(x,total_potential, color = \"blue\", label = \"Lowdin potential\")\n",
    "#plt.plot(np.arange(0,10,0.1),Polarization_Correlation_Potential(np.arange(0,10,0.1),coefficientsVpc,exponentsVpc), color = \"orange\")\n",
    "plt.plot(x,V_ee_epc, color = \"red\", label = \"Data potential\")\n",
    "plt.legend()\n",
    "#plt.ylim([-4,0])\n",
    "plt.xlim([0.0,4.0])\n",
    "plt.show()"
   ]
  },
  {
   "cell_type": "code",
   "execution_count": 11,
   "id": "fd36b596",
   "metadata": {},
   "outputs": [
    {
     "data": {
      "text/plain": [
       "[<matplotlib.lines.Line2D at 0x1537e7454910>]"
      ]
     },
     "execution_count": 11,
     "metadata": {},
     "output_type": "execute_result"
    },
    {
     "data": {
      "image/png": "[encoded data removed]",
      "text/plain": [
       "<Figure size 432x288 with 1 Axes>"
      ]
     },
     "metadata": {
      "needs_background": "light"
     },
     "output_type": "display_data"
    }
   ],
   "source": [
    "V_N = nuclear_potential(x)\n",
    "popt3,pcov3 = curve_fit(gaussians, xdata=x, ydata=V_N)\n",
    "\n",
    "plt.figure()\n",
    "plt.plot(x,V_N)\n",
    "plt.scatter(x,gaussians(x,*popt3))"
   ]
  },
  {
   "cell_type": "code",
   "execution_count": 26,
   "id": "3eb25ab9",
   "metadata": {},
   "outputs": [
    {
     "data": {
      "image/png": "[encoded data removed]",
      "text/plain": [
       "<Figure size 432x288 with 1 Axes>"
      ]
     },
     "metadata": {
      "needs_background": "light"
     },
     "output_type": "display_data"
    }
   ],
   "source": [
    "plt.figure()\n",
    "plt.plot(x,V_N)\n",
    "plt.scatter(x,gaussians(x,*popt3))\n",
    "fit_parameters_V_N = np.split(popt3, 2)\n",
    "\n",
    "coefficientsV_N = fit_parameters_V_N[0]\n",
    "exponentsV_N = fit_parameters_V_N[1]\n"
   ]
  },
  {
   "cell_type": "code",
   "execution_count": 24,
   "id": "7d10963f-cdde-45a1-8e38-865b0842788e",
   "metadata": {},
   "outputs": [
    {
     "name": "stdout",
     "output_type": "stream",
     "text": [
      "[-1.13943121e+00 -2.26430702e+00 -3.82897737e+00 -5.32103728e-01\n",
      " -1.56568835e-01 -3.26133962e+01 -7.58770868e+00 -1.26696350e+01\n",
      "  8.85097810e-02  4.49129040e-01  2.23094881e+00  1.47172723e-02\n",
      "  1.09952677e-03  2.35132108e+02  1.02191616e+01  4.45433156e+01]\n",
      "[-0.000485261216, 0.00244417831, -0.00754488737, 0.0157738437, -0.0371036225, 0.0538567205, -0.197756262, 0.152115096, -2.23099311, 7.15444061, -16.4610761, 120.06745, -1010.44414, 5912.51755, -22883.6471, 58320.2479, -96733.7399, 100515.593, -59492.9273, 15337.5181, -108.319453, 58.7242217, -33.9818623, 10.1503518, -0.203970181]\n",
      "[8.85097810e-02 4.49129040e-01 2.23094881e+00 1.47172723e-02\n",
      " 1.09952677e-03 2.35132108e+02 1.02191616e+01 4.45433156e+01]\n"
     ]
    }
   ],
   "source": [
    "print(popt)\n",
    "print(coefficientsVpc)\n",
    "print(exponents)"
   ]
  },
  {
   "cell_type": "code",
   "execution_count": 40,
   "id": "531ded30-a413-4677-8c7e-887af68ddf79",
   "metadata": {},
   "outputs": [
    {
     "data": {
      "image/png": "[encoded data removed]",
      "text/plain": [
       "<Figure size 432x288 with 1 Axes>"
      ]
     },
     "metadata": {
      "needs_background": "light"
     },
     "output_type": "display_data"
    }
   ],
   "source": [
    "total_angularMomentum = [*angularMomentVpc, *angularMoment, *angularMoment]\n",
    "total_coefficients = [*coefficientsVpc, *coefficients, *coefficientsV_N]\n",
    "total_exponents = [*exponentsVpc, *exponents, *exponentsV_N]\n",
    "\n",
    "\n",
    "def total_potential(r,a,b):\n",
    "    value = 0.0\n",
    "    for i,j in zip(total_coefficients,total_exponents):\n",
    "        value += i*np.exp(-j*r**2)\n",
    "    return value\n",
    "\n",
    "\n",
    "plt.figure()\n",
    "plt.plot(x,total_potential(x,total_coefficients,total_exponents))\n",
    "plt.axhline(y=0)\n",
    "plt.ylim([-0.5,0.5])\n",
    "plt.xlim([0.0,25])\n",
    "plt.show()"
   ]
  },
  {
   "cell_type": "code",
   "execution_count": null,
   "id": "3dac6914-e6f9-4f17-8fa4-bccfdfffe3c8",
   "metadata": {},
   "outputs": [],
   "source": [
    "potentialName = \"FULLPOTENTIAL\"\n",
    "species=\"E+\"\n",
    "\n",
    "outFile = open (potentialName,\"w\")\n",
    "\n",
    "outFile.write(\"O-\"+species+\"\\n\")\n",
    "outFile.write(\"#\\n\")\n",
    "outFile.write(\"%i\\n\" % (len(total_exponents)))\n",
    "\n",
    "for i in range(0,len(total_exponents)) :\n",
    "        outFile.write( str(i+1) + \" \"+ str(total_angularMoment[i])+\"\\n\" )\n",
    "        outFile.write( \"%.8f %.8e\\n\" % (total_exponents[i], total_coefficients[i]) )\n",
    "        aux = \"\"\n",
    "        for k in range(0,3):\n",
    "            aux = \"0 0 0\"\n",
    "        outFile.write( aux + \"\\n\")\n",
    "\n",
    "outFile.close()"
   ]
  }
 ],
 "metadata": {
  "kernelspec": {
   "display_name": "Python 3 (ipykernel)",
   "language": "python",
   "name": "python3"
  },
  "language_info": {
   "codemirror_mode": {
    "name": "ipython",
    "version": 3
   },
   "file_extension": ".py",
   "mimetype": "text/x-python",
   "name": "python",
   "nbconvert_exporter": "python",
   "pygments_lexer": "ipython3",
   "version": "3.10.7"
  }
 },
 "nbformat": 4,
 "nbformat_minor": 5
}
