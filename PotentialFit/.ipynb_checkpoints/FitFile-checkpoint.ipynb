{
 "cells": [
  {
   "cell_type": "code",
   "execution_count": 1,
   "metadata": {},
   "outputs": [
    {
     "name": "stderr",
     "output_type": "stream",
     "text": [
      "/home/pmorenor/.local/lib/python3.8/site-packages/pandas/core/arraylike.py:396: RuntimeWarning: overflow encountered in exp\n",
      "  result = getattr(ufunc, method)(*inputs, **kwargs)\n"
     ]
    },
    {
     "name": "stdout",
     "output_type": "stream",
     "text": [
      "[-1.13943121e+00 -2.26430702e+00 -3.82897737e+00 -5.32103728e-01\n",
      " -1.56568835e-01 -3.26133962e+01 -7.58770868e+00 -1.26696350e+01\n",
      "  8.85097810e-02  4.49129040e-01  2.23094881e+00  1.47172723e-02\n",
      "  1.09952677e-03  2.35132108e+02  1.02191616e+01  4.45433156e+01]\n",
      "[1.19402655e-02 1.95068444e-02 3.63295685e-02 5.53632299e-03\n",
      " 1.21235861e-03 5.08857321e-02 5.89255228e-02 6.57474016e-02\n",
      " 1.38187281e-03 6.56966781e-03 3.39645430e-02 2.29896674e-04\n",
      " 1.61409520e-05 1.32973976e+00 1.34703002e-01 5.11184756e-01]\n"
     ]
    },
    {
     "data": {
      "image/png": "[encoded data removed]",
      "text/plain": [
       "<Figure size 432x288 with 1 Axes>"
      ]
     },
     "metadata": {
      "needs_background": "light"
     },
     "output_type": "display_data"
    }
   ],
   "source": [
    "import numpy as np \n",
    "import pandas as pd \n",
    "import matplotlib.pyplot as plt \n",
    "from scipy.optimize import curve_fit\n",
    "\n",
    "\n",
    "def gaussians(r,a_0,a_1,a_2,a_3,a_4,a_5,a_6,a_7,b_0,b_1,b_2,b_3,b_4,b_5,b_6,b_7):\n",
    "\treturn a_0*np.exp(-b_0*(r)**2)+a_1*np.exp(-b_1*(r)**2)+a_2*np.exp(-b_2*(r)**2)+a_3*np.exp(-b_3*(r)**2)+a_4*np.exp(-b_4*(r)**2)+a_4*np.exp(-b_4*(r)**2)+a_5*np.exp(-b_5*(r)**2)+a_6*np.exp(-b_6*(r)**2)+a_7*np.exp(-b_7*(r)**2)\n",
    "\n",
    "def exponential_fit(r,a_0,a_1,a_2,b_0,b_1,b_2):\n",
    "    return a_0*np.exp(b_0*r)+a_1*np.exp(b_1*r)+a_2*np.exp(b_2*r)\n",
    "def nuclear_potential(r,Z=4):\n",
    "    V_ne = [Z/i for i in r]\n",
    "    return V_ne\n",
    "\n",
    "\n",
    "\n",
    "\n",
    "def substract_nuclei_coulomb(V_total,V_ne):\n",
    "    V_ee = [(i-j) for i,j in zip(V_total,V_ne)]\n",
    "    return V_ee\n",
    "\n",
    "\n",
    "\n",
    "\n",
    "\n",
    "#------------------------------------\n",
    "# Retrieving the ESP data\n",
    "\n",
    "ESP_data = pd.read_csv(\"line.txt\", delim_whitespace=True, engine=\"python\", header=None)\n",
    "x = ESP_data[0].astype(float)[1:]\n",
    "y = ESP_data[1].astype(float)\n",
    "z = ESP_data[2].astype(float)\n",
    "xr = ESP_data[0].astype(float)[1:]\n",
    "v = ESP_data[4].astype(float)[1:]\n",
    "# ----------------------------------\n",
    "\n",
    "\n",
    "\n",
    "#------------------------------------\n",
    "#Substracting nucleus-electron contribution\n",
    "V_ne = nuclear_potential(x)\n",
    "V_ee = substract_nuclei_coulomb(v,V_ne)\n",
    "\n",
    "popt, pcov = curve_fit(gaussians, xdata = x, ydata = V_ee, maxfev=50000)\n",
    "#popt, pcov = curve_fit(exponential_fit, xdata = x, ydata = V_ee, maxfev=5000000)\n",
    "\n",
    "print(popt)\n",
    "print(np.sqrt(np.diag(pcov)))\n",
    "\n",
    "fit_parameters = np.split(popt, 2)\n",
    "coefficients = fit_parameters[0]\n",
    "exponents = fit_parameters[1]\n",
    "\n",
    "angularMoment = list()\n",
    "for i in range(0,len(exponents)):\n",
    "    angularMoment.append(0)\n",
    "\n",
    "potentialName = \"ESP\"\n",
    "species=\"E+\"\n",
    "\n",
    "outFile = open (potentialName,\"w\")\n",
    "\n",
    "outFile.write(\"O-\"+species+\"\\n\")\n",
    "outFile.write(\"#\\n\")\n",
    "outFile.write(\"%i\\n\" % (len(exponents)))\n",
    "\n",
    "for i in range(0,len(exponents)) :\n",
    "        outFile.write( str(i+1) + \" \"+ str(angularMoment[i])+\"\\n\" )\n",
    "        outFile.write( \"%.8f %.8e\\n\" % (exponents[i], coefficients[i]) )\n",
    "        aux = \"\"\n",
    "        for k in range(0,3):\n",
    "            aux = \"0 0 0\"\n",
    "        outFile.write( aux + \"\\n\")\n",
    "\n",
    "outFile.close()\n",
    "\n",
    "#print(gaussians(0,*popt))\n",
    "\n",
    "\n",
    "plt.figure()\n",
    "plt.plot(x,V_ee, color = \"red\",label=\"Electronic electrostatic potential\")\n",
    "#plt.plot(xr,v,color = \"blue\")\n",
    "plt.plot(np.arange(0,50,0.1), gaussians(np.arange(0,50,0.1),*popt), color = \"green\", linestyle=\"dashed\", label=\"EEP fitted with gaussians\")\n",
    "#plt.plot(x, exponential_fit(x,*popt), color = \"green\", linestyle=\"dashed\", label=\"EEP fitted with gaussians\")\n",
    "plt.legend()\n",
    "plt.ylim([-2,0])\n",
    "plt.show()\n"
   ]
  },
  {
   "cell_type": "code",
   "execution_count": null,
   "metadata": {},
   "outputs": [],
   "source": []
  },
  {
   "cell_type": "code",
   "execution_count": 2,
   "metadata": {},
   "outputs": [
    {
     "name": "stdout",
     "output_type": "stream",
     "text": [
      "[ -1.13943121  -2.26430702  -3.82897737  -0.53210373  -0.15656883\n",
      " -32.61339622  -7.58770868 -12.66963503]\n",
      "[8.85097810e-02 4.49129040e-01 2.23094881e+00 1.47172723e-02\n",
      " 1.09952677e-03 2.35132108e+02 1.02191616e+01 4.45433156e+01]\n"
     ]
    }
   ],
   "source": [
    "fit_parameters = np.split(popt, 2)\n",
    "coefficients = fit_parameters[0]\n",
    "exponents = fit_parameters[1]\n",
    "print(coefficients)\n",
    "print(exponents)"
   ]
  },
  {
   "cell_type": "code",
   "execution_count": 3,
   "metadata": {},
   "outputs": [
    {
     "name": "stdout",
     "output_type": "stream",
     "text": [
      "[-0.000485261216, 0.00244417831, -0.00754488737, 0.0157738437, -0.0371036225, 0.0538567205, -0.197756262, 0.152115096, -2.23099311, 7.15444061, -16.4610761, 120.06745, -1010.44414, 5912.51755, -22883.6471, 58320.2479, -96733.7399, 100515.593, -59492.9273, 15337.5181, -108.319453, 58.7242217, -33.9818623, 10.1503518, -0.203970181]\n"
     ]
    }
   ],
   "source": [
    "#Now we are going to extract the Be Vpc\n",
    "angularMomentVpc = []\n",
    "exponentsVpc = []\n",
    "coefficientsVpc = []\n",
    "\n",
    "Positron_PC_Potential = \"BEPOSIPOT\"\n",
    "\n",
    "with open(Positron_PC_Potential, 'r') as inFile:\n",
    "    lines = inFile.readlines()[3:]  # Skip the first 3 lines\n",
    "    \n",
    "    for i in range(0, len(lines), 3):  # Loop over every set of 4 lines starting from the 4th line\n",
    "        # Read angular moment\n",
    "        angularMomentVpc.append(float(lines[i].split()[1]))\n",
    "        \n",
    "        # Read exponent and coefficient\n",
    "        exponentsVpc.append(float(lines[i+1].split()[0]))\n",
    "        coefficientsVpc.append(float(lines[i+1].split()[1]))\n",
    "\n",
    "# Now `angularMoment`, `exponents`, and `coefficients` are reconstructed.\n",
    "print(coefficientsVpc)"
   ]
  },
  {
   "cell_type": "code",
   "execution_count": 4,
   "metadata": {},
   "outputs": [
    {
     "data": {
      "image/png": "[encoded data removed]",
      "text/plain": [
       "<Figure size 432x288 with 1 Axes>"
      ]
     },
     "metadata": {
      "needs_background": "light"
     },
     "output_type": "display_data"
    }
   ],
   "source": [
    "def Polarization_Correlation_Potential(r,a,b):\n",
    "    value = 0.0\n",
    "    for i,j in zip(a,b):\n",
    "        value += i*np.exp(-j*r**2)\n",
    "    return value\n",
    "\n",
    "def total_potential(r,a,b):\n",
    "    value = 0.0\n",
    "    for i,j in zip(a,b):\n",
    "        value += i*np.exp(-j*r**2) + gaussians(r,*popt)\n",
    "    return value\n",
    "\n",
    "\n",
    "plt.figure()\n",
    "#plt.plot(np.arange(0,10,0.1),Polarization_Correlation_Potential(np.arange(0,10,0.1),coefficientsVpc,exponentsVpc))\n",
    "#plt.plot(np.arange(0,10,0.1), gaussians(np.arange(0,10,0.1),*popt), color = \"green\", linestyle=\"dashed\", label=\"EEP fitted with gaussians\")\n",
    "plt.plot(np.arange(1,10,0.1), total_potential(np.arange(1,10,0.1),coefficientsVpc,exponentsVpc), color = \"green\", linestyle=\"dashed\", label=\"EEP fitted with gaussians\")\n",
    "#plt.ylim([-2,1])\n",
    "plt.show()\n",
    "    "
   ]
  },
  {
   "cell_type": "code",
   "execution_count": 5,
   "metadata": {},
   "outputs": [
    {
     "data": {
      "image/png": "[encoded data removed]",
      "text/plain": [
       "<Figure size 432x288 with 1 Axes>"
      ]
     },
     "metadata": {
      "needs_background": "light"
     },
     "output_type": "display_data"
    }
   ],
   "source": [
    "plt.figure()\n",
    "plt.plot(np.arange(0,10,0.1),Polarization_Correlation_Potential(np.arange(0,10,0.1),coefficientsVpc,exponentsVpc))\n",
    "\n",
    "plt.show()"
   ]
  },
  {
   "cell_type": "code",
   "execution_count": 6,
   "metadata": {},
   "outputs": [
    {
     "data": {
      "image/png": "[encoded data removed]",
      "text/plain": [
       "<Figure size 432x288 with 1 Axes>"
      ]
     },
     "metadata": {
      "needs_background": "light"
     },
     "output_type": "display_data"
    }
   ],
   "source": [
    "total_potential_data = [total_potential(i,coefficientsVpc,exponentsVpc) for i in np.arange(0.1,10,0.1)]\n",
    "plt.plot(np.arange(0.1,10,0.1),total_potential(np.arange(0.1,10,0.1),coefficientsVpc,exponentsVpc) )\n",
    "plt.show()"
   ]
  },
  {
   "cell_type": "code",
   "execution_count": 7,
   "metadata": {},
   "outputs": [
    {
     "name": "stderr",
     "output_type": "stream",
     "text": [
      "<ipython-input-1-436eccc36bbc>:8: RuntimeWarning: overflow encountered in exp\n",
      "  return a_0*np.exp(-b_0*(r)**2)+a_1*np.exp(-b_1*(r)**2)+a_2*np.exp(-b_2*(r)**2)+a_3*np.exp(-b_3*(r)**2)+a_4*np.exp(-b_4*(r)**2)+a_4*np.exp(-b_4*(r)**2)+a_5*np.exp(-b_5*(r)**2)+a_6*np.exp(-b_6*(r)**2)+a_7*np.exp(-b_7*(r)**2)\n"
     ]
    },
    {
     "ename": "RuntimeError",
     "evalue": "Optimal parameters not found: Number of calls to function has reached maxfev = 5000.",
     "output_type": "error",
     "traceback": [
      "\u001b[0;31m---------------------------------------------------------------------------\u001b[0m",
      "\u001b[0;31mRuntimeError\u001b[0m                              Traceback (most recent call last)",
      "\u001b[0;32m<ipython-input-7-119e03192482>\u001b[0m in \u001b[0;36m<module>\u001b[0;34m\u001b[0m\n\u001b[1;32m      1\u001b[0m \u001b[0mtotal_potential_data\u001b[0m \u001b[0;34m=\u001b[0m \u001b[0;34m[\u001b[0m\u001b[0mtotal_potential\u001b[0m\u001b[0;34m(\u001b[0m\u001b[0mi\u001b[0m\u001b[0;34m,\u001b[0m\u001b[0mcoefficientsVpc\u001b[0m\u001b[0;34m,\u001b[0m\u001b[0mexponentsVpc\u001b[0m\u001b[0;34m)\u001b[0m \u001b[0;32mfor\u001b[0m \u001b[0mi\u001b[0m \u001b[0;32min\u001b[0m \u001b[0mnp\u001b[0m\u001b[0;34m.\u001b[0m\u001b[0marange\u001b[0m\u001b[0;34m(\u001b[0m\u001b[0;36m0.1\u001b[0m\u001b[0;34m,\u001b[0m\u001b[0;36m10\u001b[0m\u001b[0;34m,\u001b[0m\u001b[0;36m0.1\u001b[0m\u001b[0;34m)\u001b[0m\u001b[0;34m]\u001b[0m\u001b[0;34m\u001b[0m\u001b[0;34m\u001b[0m\u001b[0m\n\u001b[0;32m----> 2\u001b[0;31m \u001b[0mpopt2\u001b[0m\u001b[0;34m,\u001b[0m \u001b[0mpcov2\u001b[0m \u001b[0;34m=\u001b[0m \u001b[0mcurve_fit\u001b[0m\u001b[0;34m(\u001b[0m\u001b[0mgaussians\u001b[0m\u001b[0;34m,\u001b[0m \u001b[0mxdata\u001b[0m \u001b[0;34m=\u001b[0m \u001b[0mnp\u001b[0m\u001b[0;34m.\u001b[0m\u001b[0marange\u001b[0m\u001b[0;34m(\u001b[0m\u001b[0;36m0.1\u001b[0m\u001b[0;34m,\u001b[0m\u001b[0;36m10\u001b[0m\u001b[0;34m,\u001b[0m\u001b[0;36m0.1\u001b[0m\u001b[0;34m)\u001b[0m\u001b[0;34m,\u001b[0m \u001b[0mydata\u001b[0m \u001b[0;34m=\u001b[0m \u001b[0mtotal_potential_data\u001b[0m\u001b[0;34m,\u001b[0m \u001b[0mmaxfev\u001b[0m\u001b[0;34m=\u001b[0m\u001b[0;36m5000\u001b[0m\u001b[0;34m)\u001b[0m\u001b[0;34m\u001b[0m\u001b[0;34m\u001b[0m\u001b[0m\n\u001b[0m\u001b[1;32m      3\u001b[0m \u001b[0mplt\u001b[0m\u001b[0;34m.\u001b[0m\u001b[0mfigure\u001b[0m\u001b[0;34m(\u001b[0m\u001b[0;34m)\u001b[0m\u001b[0;34m\u001b[0m\u001b[0;34m\u001b[0m\u001b[0m\n\u001b[1;32m      4\u001b[0m \u001b[0;31m#plt.plot(np.arange(0.1,10,0.1), gaussians(np.arange(0.1,10,0.1),*popt2), color = \"green\", linestyle=\"dashed\", label=\"EEP fitted with gaussians\")\u001b[0m\u001b[0;34m\u001b[0m\u001b[0;34m\u001b[0m\u001b[0;34m\u001b[0m\u001b[0m\n\u001b[1;32m      5\u001b[0m \u001b[0mplt\u001b[0m\u001b[0;34m.\u001b[0m\u001b[0mplot\u001b[0m\u001b[0;34m(\u001b[0m\u001b[0mnp\u001b[0m\u001b[0;34m.\u001b[0m\u001b[0marange\u001b[0m\u001b[0;34m(\u001b[0m\u001b[0;36m0.1\u001b[0m\u001b[0;34m,\u001b[0m\u001b[0;36m10\u001b[0m\u001b[0;34m,\u001b[0m\u001b[0;36m0.1\u001b[0m\u001b[0;34m)\u001b[0m\u001b[0;34m,\u001b[0m \u001b[0mtotal_potential_data\u001b[0m\u001b[0;34m,\u001b[0m \u001b[0mcolor\u001b[0m \u001b[0;34m=\u001b[0m \u001b[0;34m\"green\"\u001b[0m\u001b[0;34m,\u001b[0m \u001b[0mlinestyle\u001b[0m\u001b[0;34m=\u001b[0m\u001b[0;34m\"dashed\"\u001b[0m\u001b[0;34m,\u001b[0m \u001b[0mlabel\u001b[0m\u001b[0;34m=\u001b[0m\u001b[0;34m\"EEP fitted with gaussians\"\u001b[0m\u001b[0;34m)\u001b[0m\u001b[0;34m\u001b[0m\u001b[0;34m\u001b[0m\u001b[0m\n",
      "\u001b[0;32m~/.local/lib/python3.8/site-packages/scipy/optimize/_minpack_py.py\u001b[0m in \u001b[0;36mcurve_fit\u001b[0;34m(f, xdata, ydata, p0, sigma, absolute_sigma, check_finite, bounds, method, jac, full_output, **kwargs)\u001b[0m\n\u001b[1;32m    862\u001b[0m         \u001b[0mcost\u001b[0m \u001b[0;34m=\u001b[0m \u001b[0mnp\u001b[0m\u001b[0;34m.\u001b[0m\u001b[0msum\u001b[0m\u001b[0;34m(\u001b[0m\u001b[0minfodict\u001b[0m\u001b[0;34m[\u001b[0m\u001b[0;34m'fvec'\u001b[0m\u001b[0;34m]\u001b[0m \u001b[0;34m**\u001b[0m \u001b[0;36m2\u001b[0m\u001b[0;34m)\u001b[0m\u001b[0;34m\u001b[0m\u001b[0;34m\u001b[0m\u001b[0m\n\u001b[1;32m    863\u001b[0m         \u001b[0;32mif\u001b[0m \u001b[0mier\u001b[0m \u001b[0;32mnot\u001b[0m \u001b[0;32min\u001b[0m \u001b[0;34m[\u001b[0m\u001b[0;36m1\u001b[0m\u001b[0;34m,\u001b[0m \u001b[0;36m2\u001b[0m\u001b[0;34m,\u001b[0m \u001b[0;36m3\u001b[0m\u001b[0;34m,\u001b[0m \u001b[0;36m4\u001b[0m\u001b[0;34m]\u001b[0m\u001b[0;34m:\u001b[0m\u001b[0;34m\u001b[0m\u001b[0;34m\u001b[0m\u001b[0m\n\u001b[0;32m--> 864\u001b[0;31m             \u001b[0;32mraise\u001b[0m \u001b[0mRuntimeError\u001b[0m\u001b[0;34m(\u001b[0m\u001b[0;34m\"Optimal parameters not found: \"\u001b[0m \u001b[0;34m+\u001b[0m \u001b[0merrmsg\u001b[0m\u001b[0;34m)\u001b[0m\u001b[0;34m\u001b[0m\u001b[0;34m\u001b[0m\u001b[0m\n\u001b[0m\u001b[1;32m    865\u001b[0m     \u001b[0;32melse\u001b[0m\u001b[0;34m:\u001b[0m\u001b[0;34m\u001b[0m\u001b[0;34m\u001b[0m\u001b[0m\n\u001b[1;32m    866\u001b[0m         \u001b[0;31m# Rename maxfev (leastsq) to max_nfev (least_squares), if specified.\u001b[0m\u001b[0;34m\u001b[0m\u001b[0;34m\u001b[0m\u001b[0;34m\u001b[0m\u001b[0m\n",
      "\u001b[0;31mRuntimeError\u001b[0m: Optimal parameters not found: Number of calls to function has reached maxfev = 5000."
     ]
    }
   ],
   "source": [
    "total_potential_data = [total_potential(i,coefficientsVpc,exponentsVpc) for i in np.arange(0.1,10,0.1)]\n",
    "popt2, pcov2 = curve_fit(gaussians, xdata = np.arange(0.1,10,0.1), ydata = total_potential_data, maxfev=5000)\n",
    "plt.figure()\n",
    "#plt.plot(np.arange(0.1,10,0.1), gaussians(np.arange(0.1,10,0.1),*popt2), color = \"green\", linestyle=\"dashed\", label=\"EEP fitted with gaussians\")\n",
    "plt.plot(np.arange(0.1,10,0.1), total_potential_data, color = \"green\", linestyle=\"dashed\", label=\"EEP fitted with gaussians\")\n",
    "plt.plot()\n"
   ]
  },
  {
   "cell_type": "code",
   "execution_count": null,
   "metadata": {},
   "outputs": [],
   "source": [
    "\n",
    "V_pc = [Polarization_Correlation_Potential(i,coefficientsVpc,exponentsVpc) for i in x]\n",
    "\n",
    "V_total = [i + j for i,j in zip(v,V_pc)]\n",
    "\n",
    "plt.figure()\n",
    "#plt.plot(x,V_pc)\n",
    "plt.ylim([-0.5,0.5])\n",
    "plt.xlim([0.0,50])\n",
    "plt.plot(x,V_total)\n",
    "plt.show()\n"
   ]
  },
  {
   "cell_type": "code",
   "execution_count": null,
   "metadata": {},
   "outputs": [],
   "source": [
    "V_pc = Polarization_Correlation_Potential(x,coefficientsVpc,exponentsVpc) \n",
    "#V_ee = exponential_fit(x,*popt)\n",
    "V_ee = gaussians(x,*popt)\n",
    "\n",
    "V_N = nuclear_potential(x)\n",
    "\n",
    "V_total_fits = [i+j+k for i,j,k in zip(V_N,V_ee,V_pc)]\n",
    "\n",
    "V_ee_epc = [i+j for i,j in zip(V_ee,V_pc)]\n",
    "\n",
    "V_total_data = [i + j for i,j in zip(v,V_pc)]\n",
    "\n",
    "\n",
    "plt.figure()\n",
    "#plt.plot(x,V_total[0])\n",
    "plt.plot(x,V_total_fits, color = \"blue\", label = \"Fit\")\n",
    "plt.plot(x,V_total_data, color = \"red\", label = \"Data\")\n",
    "plt.axhline(y=0)\n",
    "plt.legend()\n",
    "plt.ylim([-0.5,0.5])\n",
    "plt.xlim([0.0,25])\n",
    "plt.show()"
   ]
  },
  {
   "cell_type": "code",
   "execution_count": null,
   "metadata": {},
   "outputs": [],
   "source": [
    "plt.figure()\n",
    "plt.plot(x,V_ee)\n",
    "plt.show()"
   ]
  },
  {
   "cell_type": "code",
   "execution_count": null,
   "metadata": {},
   "outputs": [],
   "source": [
    "\n",
    "non_negative_exponents=[-i for i in exponents]\n",
    "\n",
    "total_angularMomentum = [*angularMomentVpc, *angularMoment]\n",
    "total_coefficients = [*coefficientsVpc, *coefficients]\n",
    "total_exponents = [*exponentsVpc, *non_negative_exponents]\n",
    "\n",
    "\n",
    "potentialName = \"EPCPOT\"\n",
    "species=\"E+\"\n",
    "\n",
    "outFile = open (potentialName,\"w\")\n",
    "\n",
    "outFile.write(\"O-\"+species+\"\\n\")\n",
    "outFile.write(\"#\\n\")\n",
    "outFile.write(\"%i\\n\" % (len(total_exponents)))\n",
    "\n",
    "for i in range(0,len(total_exponents)) :\n",
    "        outFile.write( str(i+1) + \" \"+ str(int(total_angularMomentum[i]))+\"\\n\" )\n",
    "        outFile.write( \"%.8f %.8e\\n\" % (total_exponents[i], total_coefficients[i]) )\n",
    "        aux = \"\"\n",
    "        for k in range(0,3):\n",
    "            aux = \"0 0 0\"\n",
    "        outFile.write( aux + \"\\n\")\n",
    "\n",
    "outFile.close()\n"
   ]
  },
  {
   "cell_type": "code",
   "execution_count": null,
   "metadata": {},
   "outputs": [],
   "source": [
    "angularMomentTotal = []\n",
    "exponentsTotal = []\n",
    "coefficientsTotal = []\n",
    "\n",
    "Pot = \"CONTRIB\"\n",
    "\n",
    "with open(Pot, 'r') as inFile:\n",
    "    lines = inFile.readlines()[3:]  # Skip the first 3 lines\n",
    "    for i in range(0, len(lines), 3):  # Loop over every set of 4 lines starting from the 4th line\n",
    "        # Read angular moment\n",
    "        angularMomentTotal.append(float(lines[i].split()[1]))\n",
    "        \n",
    "        # Read exponent and coefficient\n",
    "        exponentsTotal.append(float(lines[i+1].split()[0]))\n",
    "        coefficientsTotal.append(float(lines[i+1].split()[1]))\n",
    "\n",
    "\n",
    "\n",
    "def potential(r,a,b):\n",
    "    value = 0\n",
    "    for i,j in zip(a,b):\n",
    "        value += i*np.exp(-j*r**2)\n",
    "    return value\n",
    "\n",
    "print(len(coefficientsTotal))\n",
    "\n",
    "total_potential = potential(x,coefficientsTotal,exponentsTotal)\n",
    "\n",
    "plt.figure()\n",
    "plt.plot(x,total_potential, color = \"blue\", label = \"Lowdin potential\")\n",
    "#plt.plot(np.arange(0,10,0.1),Polarization_Correlation_Potential(np.arange(0,10,0.1),coefficientsVpc,exponentsVpc), color = \"orange\")\n",
    "plt.plot(x,V_ee_epc, color = \"red\", label = \"Data potential\")\n",
    "plt.legend()\n",
    "#plt.ylim([-4,0])\n",
    "plt.xlim([0.0,4.0])\n",
    "plt.show()"
   ]
  },
  {
   "cell_type": "code",
   "execution_count": null,
   "metadata": {},
   "outputs": [],
   "source": [
    "V_N = nuclear_potential(x)\n",
    "popt3,pcov3 = curve_fit(gaussians, xdata=x, ydata=V_N)\n",
    "\n",
    "plt.figure()\n",
    "plt.plot(x,V_N)\n",
    "plt.scatter(x,gaussians(x,*popt3))"
   ]
  },
  {
   "cell_type": "code",
   "execution_count": null,
   "metadata": {},
   "outputs": [],
   "source": [
    "plt.figure()\n",
    "plt.plot(x,V_N)\n",
    "plt.scatter(x,gaussians(x,*popt3))\n",
    "fit_parameters_V_N = np.split(popt3, 2)\n",
    "\n",
    "coefficientsV_N = fit_parameters_V_N[0]\n",
    "exponentsV_N = fit_parameters_V_N[1]\n"
   ]
  },
  {
   "cell_type": "code",
   "execution_count": null,
   "metadata": {},
   "outputs": [],
   "source": [
    "print(popt)\n",
    "print(coefficientsVpc)\n",
    "print(exponents)"
   ]
  },
  {
   "cell_type": "code",
   "execution_count": null,
   "metadata": {},
   "outputs": [],
   "source": [
    "total_angularMomentum = [*angularMomentVpc, *angularMoment, *angularMoment]\n",
    "total_coefficients = [*coefficientsVpc, *coefficients, *coefficientsV_N]\n",
    "total_exponents = [*exponentsVpc, *exponents, *exponentsV_N]\n",
    "\n",
    "\n",
    "def total_potential(r,a,b):\n",
    "    value = 0.0\n",
    "    for i,j in zip(total_coefficients,total_exponents):\n",
    "        value += i*np.exp(-j*r**2)\n",
    "    return value\n",
    "\n",
    "\n",
    "plt.figure()\n",
    "plt.plot(x,total_potential(x,total_coefficients,total_exponents))\n",
    "plt.axhline(y=0)\n",
    "plt.ylim([-0.5,0.5])\n",
    "plt.xlim([0.0,25])\n",
    "plt.show()"
   ]
  },
  {
   "cell_type": "code",
   "execution_count": null,
   "metadata": {},
   "outputs": [],
   "source": [
    "potentialName = \"FULLPOTENTIAL\"\n",
    "species=\"E+\"\n",
    "\n",
    "outFile = open (potentialName,\"w\")\n",
    "\n",
    "outFile.write(\"O-\"+species+\"\\n\")\n",
    "outFile.write(\"#\\n\")\n",
    "outFile.write(\"%i\\n\" % (len(total_exponents)))\n",
    "\n",
    "for i in range(0,len(total_exponents)) :\n",
    "        outFile.write( str(i+1) + \" \"+ str(int(total_angularMomentum[i]))+\"\\n\" )\n",
    "        outFile.write( \"%.8f %.8e\\n\" % (total_exponents[i], total_coefficients[i]) )\n",
    "        aux = \"\"\n",
    "        for k in range(0,3):\n",
    "            aux = \"0 0 0\"\n",
    "        outFile.write( aux + \"\\n\")\n",
    "\n",
    "outFile.close()"
   ]
  },
  {
   "cell_type": "code",
   "execution_count": 57,
   "metadata": {},
   "outputs": [
    {
     "name": "stderr",
     "output_type": "stream",
     "text": [
      "/home/pmorenor/.local/lib/python3.8/site-packages/pandas/core/arraylike.py:396: RuntimeWarning: overflow encountered in exp\n",
      "  result = getattr(ufunc, method)(*inputs, **kwargs)\n"
     ]
    }
   ],
   "source": [
    "datapath=\"/home/pmorenor/Desktop/PositronWork/H-/H-_normal/dataHminus2.dat\"\n",
    "\n",
    "\n",
    "def gaussians2(r,a_0,a_1,a_2,a_3,a_4,a_5,a_6,a_7,a_8,a_9,b_0,b_1,b_2,b_3,b_4,b_5,b_6,b_7,b_8,b_9):\n",
    "\treturn a_0*np.exp(-b_0*(r)**2)+a_1*np.exp(-b_1*(r)**2)+a_2*np.exp(-b_2*(r)**2)+a_3*np.exp(-b_3*(r)**2)+a_4*np.exp(-b_4*(r)**2)+a_5*np.exp(-b_5*(r)**2)+a_6*np.exp(-b_6*(r)**2)+a_7*np.exp(-b_7*(r)**2)+a_8*np.exp(-b_8*(r)**2)+a_9*np.exp(-b_9*(r)**2)\n",
    "\n",
    "def gaussians3(r,a_0,a_1,a_2,a_3,a_4,a_5,a_6,a_7,a_8,a_9,b_0,b_1,b_2,b_3,b_4,b_5,b_6,b_7,b_8,b_9):\n",
    "\treturn a_0*np.exp(-b_0*(r-10)**2)+a_1*np.exp(-b_1*(r-10)**2)+a_2*np.exp(-b_2*(r-10)**2)+a_3*np.exp(-b_3*(r-10)**2)+a_4*np.exp(-b_4*(r-10)**2)+a_5*np.exp(-b_5*(r-10)**2)+a_6*np.exp(-b_6*(r-10)**2)+a_7*np.exp(-b_7*(r-10)**2)+a_8*np.exp(-b_8*(r-10)**2)+a_9*np.exp(-b_9*(r-10)**2)\n",
    "\n",
    "\n",
    "\n",
    "Data = pd.read_csv(datapath, delim_whitespace=True, engine=\"python\", header=None)\n",
    "\n",
    "\n",
    "r = Data[0].astype(float)\n",
    "r_Bohr = pd.Series([i*1.8897259886 for i in r])\n",
    "V_ee = Data[2].astype(float)\n",
    "V_Total = Data[3].astype(float)\n",
    "\n",
    "\n",
    "popt_ee, pcov_ee = curve_fit(gaussians, xdata=r_Bohr, ydata = V_ee, maxfev=50000)\n",
    "popt_total, pcov_total = curve_fit(gaussians2, xdata=r_Bohr, ydata= V_Total, maxfev=50000)\n",
    "\n"
   ]
  },
  {
   "cell_type": "markdown",
   "metadata": {},
   "source": [
    "\n",
    "non_negative_exponents=[-i for i in exponents]\n",
    "\n",
    "total_angularMomentum = [*angularMomentVpc, *angularMoment]\n",
    "total_coefficients = [*coefficientsVpc, *coefficients]\n",
    "total_exponents = [*exponentsVpc, *non_negative_exponents]\n",
    "\n",
    "\n",
    "potentialName = \"EPCPOT\"\n",
    "species=\"E+\"\n",
    "\n",
    "outFile = open (potentialName,\"w\")\n",
    "\n",
    "outFile.write(\"O-\"+species+\"\\n\")\n",
    "outFile.write(\"#\\n\")\n",
    "outFile.write(\"%i\\n\" % (len(total_exponents)))\n",
    "\n",
    "for i in range(0,len(total_exponents)) :\n",
    "        outFile.write( str(i+1) + \" \"+ str(int(total_angularMomentum[i]))+\"\\n\" )\n",
    "        outFile.write( \"%.8f %.8e\\n\" % (total_exponents[i], total_coefficients[i]) )\n",
    "        aux = \"\"\n",
    "        for k in range(0,3):\n",
    "            aux = \"0 0 0\"\n",
    "        outFile.write( aux + \"\\n\")\n",
    "\n",
    "outFile.close()\n"
   ]
  },
  {
   "cell_type": "code",
   "execution_count": 16,
   "metadata": {},
   "outputs": [
    {
     "data": {
      "image/png": "[encoded data removed]",
      "text/plain": [
       "<Figure size 432x288 with 1 Axes>"
      ]
     },
     "metadata": {
      "needs_background": "light"
     },
     "output_type": "display_data"
    }
   ],
   "source": [
    "plt.figure()\n",
    "plt.plot(r_Bohr,V_ee, color = \"red\", label = \"$V_{ee}$\")\n",
    "plt.scatter(r_Bohr,gaussians(r_Bohr,*popt_ee), color = \"blue\", label = \"Fit\")\n",
    "plt.legend()\n",
    "#plt.xlim(-2,10)\n",
    "#plt.ylim(-1,0)\n",
    "plt.show()\n",
    "\n",
    "#print(popt_ee)\n",
    "#print(np.sqrt(np.diag(pcov_ee)))"
   ]
  },
  {
   "cell_type": "code",
   "execution_count": 42,
   "metadata": {},
   "outputs": [
    {
     "data": {
      "image/png": "[encoded data removed]",
      "text/plain": [
       "<Figure size 432x288 with 1 Axes>"
      ]
     },
     "metadata": {
      "needs_background": "light"
     },
     "output_type": "display_data"
    }
   ],
   "source": [
    "\n",
    "plt.figure()\n",
    "#plt.plot(r_Bohr,V_Total, color = \"red\", label = \"$V_{Total}$\")\n",
    "#plt.scatter(r_Bohr,gaussians2(r_Bohr,*popt_total), color = \"blue\", label = \"Fitted\")\n",
    "plt.plot(np.arange(-30,30,0.1),gaussians3(np.arange(-30,30,0.1),*popt_total), color = \"red\", label = \"Fitted\")\n",
    "plt.plot(np.arange(-30,30,0.1),gaussians2(np.arange(-30,30,0.1),*popt_total), color = \"blue\", label = \"Fitted\")\n",
    "plt.axhline(y=0, color = \"black\", linestyle=\"dashed\" )\n",
    "\n",
    "\n",
    "plt.legend()\n",
    "plt.xlim(0,5)\n",
    "plt.ylim(-0.325,1)\n",
    "plt.show()"
   ]
  },
  {
   "cell_type": "code",
   "execution_count": 14,
   "metadata": {},
   "outputs": [
    {
     "data": {
      "image/png": "[encoded data removed]",
      "text/plain": [
       "<Figure size 432x288 with 2 Axes>"
      ]
     },
     "metadata": {
      "needs_background": "light"
     },
     "output_type": "display_data"
    }
   ],
   "source": [
    "from mpl_toolkits.axes_grid1.inset_locator import inset_axes\n",
    "fig, ax = plt.subplots()\n",
    "ax.plot(r_Bohr,V_Total, color = \"red\", label = \"$V_{Total}$\")\n",
    "ax.scatter(r_Bohr,gaussians2(r_Bohr,*popt_total), color = \"blue\", label = \"Fitted\")\n",
    "#ax.scatter(np.arange(-30,30,0.5),gaussians2(np.arange(-30,30,0.5),*popt_total), color = \"blue\", label = \"Fitted\")\n",
    "\n",
    "ax.set_xlabel(\"Å\")\n",
    "ax.set_ylabel('a.u.')\n",
    "#ax.set_title('Total potential vs Distance')\n",
    "ax.set_xlim(-2,30)\n",
    "ax.set_ylim(-2,20)\n",
    "ax.legend(loc=\"upper left\")\n",
    "#ax.axhline(y=0)\n",
    "\n",
    "x_min, x_max = 0, 3\n",
    "y_min, y_max = -0.325,-0.2\n",
    "\n",
    "# Add an inset axes (zoomed-in plot)\n",
    "axins = inset_axes(ax, width=\"30%\", height=\"30%\", loc='upper right')  # inset size and location\n",
    "\n",
    "# Plot the zoomed region in the inset\n",
    "axins.plot(r_Bohr,V_Total, color = \"red\")\n",
    "axins.scatter(r_Bohr,gaussians2(r_Bohr,*popt_total), color = \"blue\")\n",
    "axins.set_xlim(x_min, x_max)\n",
    "axins.set_ylim(y_min, y_max)\n",
    "\n",
    "# Add a rectangle patch on the original plot to show where the zoomed area is\n",
    "#ax.indicate_inset_zoom(axins)\n",
    "\n",
    "#plt.show()\n",
    "plt.savefig(\"VtotalVsDistance.png\")"
   ]
  },
  {
   "cell_type": "code",
   "execution_count": null,
   "metadata": {},
   "outputs": [],
   "source": [
    "from mpl_toolkits.axes_grid1.inset_locator import inset_axes\n",
    "fig, ax = plt.subplots()\n",
    "ax.plot(r_Bohr,V_ee, color = \"red\", label = \"$V_{elec}$\")\n",
    "ax.scatter(r_Bohr,gaussians(r_Bohr,*popt_ee), color = \"blue\", label = \"Fitted\")\n",
    "ax.set_xlabel(\"Å\")\n",
    "ax.set_ylabel('a.u.')\n",
    "#ax.set_title('Total potential vs Distance')\n",
    "ax.set_xlim(-2,30)\n",
    "ax.set_ylim(-1.3,1)\n",
    "ax.legend(loc=\"upper left\")\n",
    "#ax.axhliney=0)\n",
    "\n",
    "x_min, x_max = 1, 5\n",
    "y_min, y_max = -0.7,-0.2\n",
    "\n",
    "# Add an inset axes (zoomed-in plot)\n",
    "axins = inset_axes(ax, width=\"30%\", height=\"30%\", loc='upper right')  # inset size and location\n",
    "\n",
    "# Plot the zoomed region in the inset\n",
    "axins.plot(r_Bohr,V_ee, color = \"red\")\n",
    "axins.scatter(r_Bohr,gaussians(r_Bohr,*popt_ee), color = \"blue\")\n",
    "axins.set_xlim(x_min, x_max)\n",
    "axins.set_ylim(y_min, y_max)\n",
    "\n",
    "# Add a rectangle patch on the original plot to show where the zoomed area is\n",
    "#ax.indicate_inset_zoom(axins)\n",
    "\n",
    "#plt.show()\n",
    "plt.savefig(\"VelecDistance.png\")"
   ]
  },
  {
   "cell_type": "code",
   "execution_count": 36,
   "metadata": {},
   "outputs": [],
   "source": [
    "def write_potential_to_lowdin_format(potentialName,species,angularMomentum,fitting_parameters,center):\n",
    "    \n",
    "    \n",
    "    parameters = np.split(fitting_parameters, 2)\n",
    "    \n",
    "    coefficients = parameters[0]\n",
    "    exponents = parameters[1]\n",
    "    \n",
    "    outFile = open(potentialName, \"w\")\n",
    "    \n",
    "    outFile.write(\"O-\"+species+\"\\n\")\n",
    "    outFile.write(\"#\\n\")\n",
    "    outFile.write(\"%i\\n\" % (len(exponents)))\n",
    "    \n",
    "    for i in range(0,len(exponents)) :\n",
    "        outFile.write( str(i+1) + \" \"+ str(int(angularMomentum[i]))+\"\\n\" )\n",
    "        outFile.write( \"%.8f %.8e\\n\" % (exponents[i], coefficients[i]) )\n",
    "        \n",
    "        aux = str(center[0])+\" \"+str(center[1])+\" \"+str(center[2])\n",
    "        \"\"\"\n",
    "        aux = \"\"\n",
    "        for k in range(0,3):\n",
    "            aux = \"0 0 0\"\n",
    "        \"\"\"\n",
    "        outFile.write( aux + \"\\n\")\n",
    "\n",
    "    outFile.close()\n",
    "    "
   ]
  },
  {
   "cell_type": "code",
   "execution_count": null,
   "metadata": {},
   "outputs": [],
   "source": [
    "L = [0 for i in range(0,len(popt_total))]\n",
    "\n",
    "\n",
    "print(popt_ee)\n",
    "print(popt_total)\n",
    "\n",
    "write_potential_to_lowdin_format(\"HEEBOHR\",\"E+\",L,popt_ee)\n",
    "write_potential_to_lowdin_format(\"HTOBOHR\",\"E+\",L,popt_total)\n",
    "\n"
   ]
  },
  {
   "cell_type": "code",
   "execution_count": 40,
   "metadata": {},
   "outputs": [],
   "source": [
    "L = [0 for i in range(0,len(popt_total))]\n",
    "write_potential_to_lowdin_format(\"HCENTER\",\"E+\",L,popt_total,[2.0,0,0])"
   ]
  },
  {
   "cell_type": "code",
   "execution_count": 62,
   "metadata": {},
   "outputs": [
    {
     "data": {
      "image/png": "[encoded data removed]",
      "text/plain": [
       "<Figure size 432x288 with 1 Axes>"
      ]
     },
     "metadata": {
      "needs_background": "light"
     },
     "output_type": "display_data"
    }
   ],
   "source": [
    "two_atom = [i+j for i,j in zip(gaussians2(np.arange(-10,20,0.1),*popt_total),gaussians3(np.arange(-10,20,0.1),*popt_total))]\n",
    "\n",
    "\n",
    "ESP_data = pd.read_csv(\"/home/pmorenor/Desktop/PositronWork/H2-/line.txt\", delim_whitespace=True, engine=\"python\", header=None)\n",
    "x = ESP_data[0].astype(float)[1:]\n",
    "y = ESP_data[1].astype(float)\n",
    "z = ESP_data[2].astype(float)\n",
    "xr = ESP_data[0].astype(float)[1:]\n",
    "v = ESP_data[4].astype(float)[1:]\n",
    "x_Bohr = pd.Series([i*1.8897259886 for i in x])\n",
    "\n",
    "\n",
    "plt.figure()\n",
    "plt.scatter(np.arange(-10,20,0.1),two_atom, color=\"red\")\n",
    "plt.axhline(y=0, color = \"black\")\n",
    "plt.plot(x_Bohr,v, color = \"blue\")\n",
    "plt.ylim(-0.5,1)\n",
    "plt.show()"
   ]
  },
  {
   "cell_type": "code",
   "execution_count": null,
   "metadata": {},
   "outputs": [],
   "source": [
    "def harmonic_potential(r,b):\n",
    "    return b*r**2 \n",
    "\n",
    "data_experiment_1 = harmonic_potential(np.arange(0,2,0.1),0.5)\n",
    "data_experiment_2 = [4.5-1/i for i in np.arange(2,20,0.1)]\n",
    "\n",
    "data_total = [*data_experiment_1,*data_experiment_2]\n",
    "\n",
    "\n",
    "plt.figure()\n",
    "plt.plot(np.arange(0,20,0.1), data_total)\n",
    "plt. xlim\n",
    "plt.show()"
   ]
  },
  {
   "cell_type": "code",
   "execution_count": null,
   "metadata": {},
   "outputs": [],
   "source": [
    "popt_harmonic, pcov_harmonic = curve_fit(gaussians, xdata=np.arange(0,20,0.1), ydata=data_total,maxfev=50000)"
   ]
  },
  {
   "cell_type": "code",
   "execution_count": null,
   "metadata": {},
   "outputs": [],
   "source": [
    "plt.figure()\n",
    "plt.scatter(np.arange(0,20,0.1), gaussians(np.arange(0,20,0.1),*popt_harmonic))\n",
    "plt.plot(np.arange(0,20,0.1), data_total)\n",
    "plt. xlim\n",
    "plt.show()"
   ]
  },
  {
   "cell_type": "code",
   "execution_count": null,
   "metadata": {},
   "outputs": [],
   "source": [
    "write_potential_to_lowdin_format(\"HARMONICPOT\",\"E+\",L,popt_harmonic)\n"
   ]
  },
  {
   "cell_type": "code",
   "execution_count": null,
   "metadata": {},
   "outputs": [],
   "source": [
    "print(gaussians(0,*popt_harmonic))"
   ]
  },
  {
   "cell_type": "code",
   "execution_count": null,
   "metadata": {},
   "outputs": [],
   "source": [
    "print(gaussians(1.10,*popt_total))\n"
   ]
  },
  {
   "cell_type": "code",
   "execution_count": 8,
   "metadata": {},
   "outputs": [
    {
     "ename": "NameError",
     "evalue": "name 'r' is not defined",
     "output_type": "error",
     "traceback": [
      "\u001b[0;31m---------------------------------------------------------------------------\u001b[0m",
      "\u001b[0;31mNameError\u001b[0m                                 Traceback (most recent call last)",
      "\u001b[0;32m<ipython-input-8-3bfc66cd6794>\u001b[0m in \u001b[0;36m<module>\u001b[0;34m\u001b[0m\n\u001b[1;32m     11\u001b[0m \u001b[0;34m\u001b[0m\u001b[0m\n\u001b[1;32m     12\u001b[0m \u001b[0mplt\u001b[0m\u001b[0;34m.\u001b[0m\u001b[0mfigure\u001b[0m\u001b[0;34m(\u001b[0m\u001b[0;34m)\u001b[0m\u001b[0;34m\u001b[0m\u001b[0;34m\u001b[0m\u001b[0m\n\u001b[0;32m---> 13\u001b[0;31m \u001b[0mplt\u001b[0m\u001b[0;34m.\u001b[0m\u001b[0mplot\u001b[0m\u001b[0;34m(\u001b[0m\u001b[0mr\u001b[0m\u001b[0;34m,\u001b[0m\u001b[0mV_Total\u001b[0m\u001b[0;34m)\u001b[0m\u001b[0;34m\u001b[0m\u001b[0;34m\u001b[0m\u001b[0m\n\u001b[0m\u001b[1;32m     14\u001b[0m \u001b[0mplt\u001b[0m\u001b[0;34m.\u001b[0m\u001b[0mscatter\u001b[0m\u001b[0;34m(\u001b[0m\u001b[0mxr\u001b[0m\u001b[0;34m,\u001b[0m\u001b[0mv\u001b[0m\u001b[0;34m,\u001b[0m \u001b[0mcolor\u001b[0m\u001b[0;34m=\u001b[0m\u001b[0;34m\"red\"\u001b[0m\u001b[0;34m)\u001b[0m\u001b[0;34m\u001b[0m\u001b[0;34m\u001b[0m\u001b[0m\n\u001b[1;32m     15\u001b[0m \u001b[0mplt\u001b[0m\u001b[0;34m.\u001b[0m\u001b[0mylim\u001b[0m\u001b[0;34m(\u001b[0m\u001b[0;34m-\u001b[0m\u001b[0;36m1\u001b[0m\u001b[0;34m,\u001b[0m\u001b[0;36m1\u001b[0m\u001b[0;34m)\u001b[0m\u001b[0;34m\u001b[0m\u001b[0;34m\u001b[0m\u001b[0m\n",
      "\u001b[0;31mNameError\u001b[0m: name 'r' is not defined"
     ]
    },
    {
     "data": {
      "text/plain": [
       "<Figure size 432x288 with 0 Axes>"
      ]
     },
     "metadata": {},
     "output_type": "display_data"
    }
   ],
   "source": [
    "ESP_data = pd.read_csv(\"/home/pmorenor/Desktop/PositronWork/H-/H-_normal/line.txt\", delim_whitespace=True, engine=\"python\", header=None)\n",
    "x = ESP_data[0].astype(float)\n",
    "y = ESP_data[1].astype(float)\n",
    "z = ESP_data[2].astype(float)\n",
    "xr = ESP_data[3].astype(float)\n",
    "v = ESP_data[4].astype(float)\n",
    "\n",
    "\n",
    "v_ee_multi = [i - 4/j for i,j in zip(v[1:],x[1:])]\n",
    "\n",
    "\n",
    "plt.figure()\n",
    "plt.plot(r,V_Total)\n",
    "plt.scatter(xr,v, color=\"red\")\n",
    "plt.ylim(-1,1)\n",
    "plt.xlim(0,10)\n",
    "plt.show()"
   ]
  },
  {
   "cell_type": "code",
   "execution_count": null,
   "metadata": {},
   "outputs": [],
   "source": [
    "fig, ax = plt.subplots()\n",
    "ax.plot(r,V_Total, color = \"red\", label = \"$V_{Total}$\")\n",
    "ax.scatter(xr,v, color = \"blue\", label = \"Multiwfn\")\n",
    "ax.set_xlabel(\"Å\")\n",
    "ax.set_ylabel('a.u.')\n",
    "#ax.set_title('Total potential vs Distance')\n",
    "ax.set_xlim(-2,30)\n",
    "ax.set_ylim(-2,20)\n",
    "ax.legend(loc=\"upper left\")\n",
    "#ax.axhline(y=0)\n",
    "\n",
    "x_min, x_max = 0, 3\n",
    "y_min, y_max = -0.325,-0.2\n",
    "\n",
    "# Add an inset axes (zoomed-in plot)\n",
    "axins = inset_axes(ax, width=\"30%\", height=\"30%\", loc='upper right')  # inset size and location\n",
    "\n",
    "# Plot the zoomed region in the inset\n",
    "axins.plot(r,V_Total, color = \"red\")\n",
    "axins.scatter(xr,v, color = \"blue\")\n",
    "axins.set_xlim(x_min, x_max)\n",
    "axins.set_ylim(y_min, y_max)\n",
    "\n",
    "# Add a rectangle patch on the original plot to show where the zoomed area is\n",
    "#ax.indicate_inset_zoom(axins)\n",
    "\n",
    "#plt.show()\n",
    "plt.savefig(\"LowdinVsMultiwfn.png\")"
   ]
  },
  {
   "cell_type": "code",
   "execution_count": null,
   "metadata": {},
   "outputs": [],
   "source": [
    "from tabulate import tabulate\n",
    "\n",
    "parameters_vtotal = np.split(popt_total,2)\n",
    "errors_vtotal = np.split(np.sqrt(np.diag(pcov_total)),2)\n",
    "table_parameters_total = np.transpose([parameters_vtotal[0], errors_vtotal[0],parameters_vtotal[1], errors_vtotal[1]])\n",
    "\n",
    "\n",
    "print(tabulate(table_parameters_total, tablefmt=\"latex\", floatfmt=\".4f\"))"
   ]
  },
  {
   "cell_type": "code",
   "execution_count": null,
   "metadata": {},
   "outputs": [],
   "source": [
    "parameters_vee = np.split(popt_ee,2)\n",
    "errors_vee = np.split(np.sqrt(np.diag(pcov_ee)),2)\n",
    "table_parameters_vee = np.transpose([parameters_vee[0], errors_vee[0],parameters_vee[1], errors_vee[1]])\n",
    "\n",
    "\n",
    "print(tabulate(table_parameters_vee, tablefmt=\"latex\", floatfmt=\".4f\"))"
   ]
  },
  {
   "cell_type": "code",
   "execution_count": null,
   "metadata": {},
   "outputs": [],
   "source": [
    "print(popt_total)\n",
    "print(parameters_vtotal[0])"
   ]
  },
  {
   "cell_type": "code",
   "execution_count": null,
   "metadata": {},
   "outputs": [],
   "source": [
    "    "
   ]
  }
 ],
 "metadata": {
  "kernelspec": {
   "display_name": "Python 3",
   "language": "python",
   "name": "python3"
  },
  "language_info": {
   "codemirror_mode": {
    "name": "ipython",
    "version": 3
   },
   "file_extension": ".py",
   "mimetype": "text/x-python",
   "name": "python",
   "nbconvert_exporter": "python",
   "pygments_lexer": "ipython3",
   "version": "3.8.10"
  }
 },
 "nbformat": 4,
 "nbformat_minor": 5
}
